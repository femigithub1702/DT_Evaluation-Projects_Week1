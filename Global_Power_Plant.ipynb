{
 "cells": [
  {
   "cell_type": "code",
   "execution_count": 2,
   "metadata": {},
   "outputs": [],
   "source": [
    "import pandas as pd\n",
    "import numpy as np\n",
    "import matplotlib.pyplot as plt\n",
    "import seaborn as sns\n",
    "from sklearn.preprocessing import StandardScaler\n",
    "import warnings\n",
    "warnings.filterwarnings('ignore')\n",
    "%matplotlib inline"
   ]
  },
  {
   "cell_type": "markdown",
   "metadata": {},
   "source": [
    "Global Power Plant Database\n",
    "Problem Statement:\n",
    "Description\n",
    "\n",
    "The Global Power Plant Database is a comprehensive, open source database of power plants around the world. It centralizes power plant data to make it easier to navigate, compare and draw insights for one’s own analysis. The database covers approximately 35,000 power plants from 167 countries and includes thermal plants (e.g. coal, gas, oil, nuclear, biomass, waste, geothermal) and renewables (e.g. hydro, wind, solar). Each power plant is geolocated and entries contain information on plant capacity, generation, ownership, and fuel type. It will be continuously updated as data becomes available.\n",
    "\n",
    "Prediction :\n",
    "Make two prediction 1) Fuel Type 2) capacity_mw# Global Power Plant\n",
    "\n"
   ]
  },
  {
   "cell_type": "code",
   "execution_count": 3,
   "metadata": {},
   "outputs": [
    {
     "data": {
      "text/html": [
       "<div>\n",
       "<style scoped>\n",
       "    .dataframe tbody tr th:only-of-type {\n",
       "        vertical-align: middle;\n",
       "    }\n",
       "\n",
       "    .dataframe tbody tr th {\n",
       "        vertical-align: top;\n",
       "    }\n",
       "\n",
       "    .dataframe thead th {\n",
       "        text-align: right;\n",
       "    }\n",
       "</style>\n",
       "<table border=\"1\" class=\"dataframe\">\n",
       "  <thead>\n",
       "    <tr style=\"text-align: right;\">\n",
       "      <th></th>\n",
       "      <th>country</th>\n",
       "      <th>country_long</th>\n",
       "      <th>name</th>\n",
       "      <th>gppd_idnr</th>\n",
       "      <th>capacity_mw</th>\n",
       "      <th>latitude</th>\n",
       "      <th>longitude</th>\n",
       "      <th>primary_fuel</th>\n",
       "      <th>other_fuel1</th>\n",
       "      <th>other_fuel2</th>\n",
       "      <th>...</th>\n",
       "      <th>geolocation_source</th>\n",
       "      <th>wepp_id</th>\n",
       "      <th>year_of_capacity_data</th>\n",
       "      <th>generation_gwh_2013</th>\n",
       "      <th>generation_gwh_2014</th>\n",
       "      <th>generation_gwh_2015</th>\n",
       "      <th>generation_gwh_2016</th>\n",
       "      <th>generation_gwh_2017</th>\n",
       "      <th>generation_data_source</th>\n",
       "      <th>estimated_generation_gwh</th>\n",
       "    </tr>\n",
       "  </thead>\n",
       "  <tbody>\n",
       "    <tr>\n",
       "      <th>0</th>\n",
       "      <td>IND</td>\n",
       "      <td>India</td>\n",
       "      <td>ACME Solar Tower</td>\n",
       "      <td>WRI1020239</td>\n",
       "      <td>2.50</td>\n",
       "      <td>28.1839</td>\n",
       "      <td>73.2407</td>\n",
       "      <td>Solar</td>\n",
       "      <td>NaN</td>\n",
       "      <td>NaN</td>\n",
       "      <td>...</td>\n",
       "      <td>National Renewable Energy Laboratory</td>\n",
       "      <td>NaN</td>\n",
       "      <td>NaN</td>\n",
       "      <td>NaN</td>\n",
       "      <td>NaN</td>\n",
       "      <td>NaN</td>\n",
       "      <td>NaN</td>\n",
       "      <td>NaN</td>\n",
       "      <td>NaN</td>\n",
       "      <td>NaN</td>\n",
       "    </tr>\n",
       "    <tr>\n",
       "      <th>1</th>\n",
       "      <td>IND</td>\n",
       "      <td>India</td>\n",
       "      <td>ADITYA CEMENT WORKS</td>\n",
       "      <td>WRI1019881</td>\n",
       "      <td>98.00</td>\n",
       "      <td>24.7663</td>\n",
       "      <td>74.6090</td>\n",
       "      <td>Coal</td>\n",
       "      <td>NaN</td>\n",
       "      <td>NaN</td>\n",
       "      <td>...</td>\n",
       "      <td>WRI</td>\n",
       "      <td>NaN</td>\n",
       "      <td>NaN</td>\n",
       "      <td>NaN</td>\n",
       "      <td>NaN</td>\n",
       "      <td>NaN</td>\n",
       "      <td>NaN</td>\n",
       "      <td>NaN</td>\n",
       "      <td>NaN</td>\n",
       "      <td>NaN</td>\n",
       "    </tr>\n",
       "    <tr>\n",
       "      <th>2</th>\n",
       "      <td>IND</td>\n",
       "      <td>India</td>\n",
       "      <td>AES Saurashtra Windfarms</td>\n",
       "      <td>WRI1026669</td>\n",
       "      <td>39.20</td>\n",
       "      <td>21.9038</td>\n",
       "      <td>69.3732</td>\n",
       "      <td>Wind</td>\n",
       "      <td>NaN</td>\n",
       "      <td>NaN</td>\n",
       "      <td>...</td>\n",
       "      <td>WRI</td>\n",
       "      <td>NaN</td>\n",
       "      <td>NaN</td>\n",
       "      <td>NaN</td>\n",
       "      <td>NaN</td>\n",
       "      <td>NaN</td>\n",
       "      <td>NaN</td>\n",
       "      <td>NaN</td>\n",
       "      <td>NaN</td>\n",
       "      <td>NaN</td>\n",
       "    </tr>\n",
       "    <tr>\n",
       "      <th>3</th>\n",
       "      <td>IND</td>\n",
       "      <td>India</td>\n",
       "      <td>AGARTALA GT</td>\n",
       "      <td>IND0000001</td>\n",
       "      <td>135.00</td>\n",
       "      <td>23.8712</td>\n",
       "      <td>91.3602</td>\n",
       "      <td>Gas</td>\n",
       "      <td>NaN</td>\n",
       "      <td>NaN</td>\n",
       "      <td>...</td>\n",
       "      <td>WRI</td>\n",
       "      <td>NaN</td>\n",
       "      <td>2018.0</td>\n",
       "      <td>631.777928</td>\n",
       "      <td>617.789264</td>\n",
       "      <td>843.747000</td>\n",
       "      <td>886.004428</td>\n",
       "      <td>663.774500</td>\n",
       "      <td>Central Electricity Authority</td>\n",
       "      <td>NaN</td>\n",
       "    </tr>\n",
       "    <tr>\n",
       "      <th>4</th>\n",
       "      <td>IND</td>\n",
       "      <td>India</td>\n",
       "      <td>AKALTARA TPP</td>\n",
       "      <td>IND0000002</td>\n",
       "      <td>1800.00</td>\n",
       "      <td>21.9603</td>\n",
       "      <td>82.4091</td>\n",
       "      <td>Coal</td>\n",
       "      <td>Oil</td>\n",
       "      <td>NaN</td>\n",
       "      <td>...</td>\n",
       "      <td>WRI</td>\n",
       "      <td>NaN</td>\n",
       "      <td>2018.0</td>\n",
       "      <td>1668.290000</td>\n",
       "      <td>3035.550000</td>\n",
       "      <td>5916.370000</td>\n",
       "      <td>6243.000000</td>\n",
       "      <td>5385.579736</td>\n",
       "      <td>Central Electricity Authority</td>\n",
       "      <td>NaN</td>\n",
       "    </tr>\n",
       "    <tr>\n",
       "      <th>5</th>\n",
       "      <td>IND</td>\n",
       "      <td>India</td>\n",
       "      <td>AKRIMOTA LIG</td>\n",
       "      <td>IND0000003</td>\n",
       "      <td>250.00</td>\n",
       "      <td>23.7689</td>\n",
       "      <td>68.6447</td>\n",
       "      <td>Coal</td>\n",
       "      <td>Oil</td>\n",
       "      <td>NaN</td>\n",
       "      <td>...</td>\n",
       "      <td>WRI</td>\n",
       "      <td>NaN</td>\n",
       "      <td>2018.0</td>\n",
       "      <td>821.798000</td>\n",
       "      <td>1153.421000</td>\n",
       "      <td>1208.852000</td>\n",
       "      <td>1175.765000</td>\n",
       "      <td>1147.913000</td>\n",
       "      <td>Central Electricity Authority</td>\n",
       "      <td>NaN</td>\n",
       "    </tr>\n",
       "    <tr>\n",
       "      <th>6</th>\n",
       "      <td>IND</td>\n",
       "      <td>India</td>\n",
       "      <td>ALIYAR</td>\n",
       "      <td>IND0000004</td>\n",
       "      <td>60.00</td>\n",
       "      <td>10.4547</td>\n",
       "      <td>77.0078</td>\n",
       "      <td>Hydro</td>\n",
       "      <td>NaN</td>\n",
       "      <td>NaN</td>\n",
       "      <td>...</td>\n",
       "      <td>WRI</td>\n",
       "      <td>NaN</td>\n",
       "      <td>2018.0</td>\n",
       "      <td>147.568450</td>\n",
       "      <td>157.558250</td>\n",
       "      <td>152.195200</td>\n",
       "      <td>61.421350</td>\n",
       "      <td>89.629600</td>\n",
       "      <td>Central Electricity Authority</td>\n",
       "      <td>NaN</td>\n",
       "    </tr>\n",
       "    <tr>\n",
       "      <th>7</th>\n",
       "      <td>IND</td>\n",
       "      <td>India</td>\n",
       "      <td>ALLAIN DUHANGAN</td>\n",
       "      <td>IND0000005</td>\n",
       "      <td>192.00</td>\n",
       "      <td>32.2258</td>\n",
       "      <td>77.2070</td>\n",
       "      <td>Hydro</td>\n",
       "      <td>NaN</td>\n",
       "      <td>NaN</td>\n",
       "      <td>...</td>\n",
       "      <td>WRI</td>\n",
       "      <td>NaN</td>\n",
       "      <td>2018.0</td>\n",
       "      <td>696.738800</td>\n",
       "      <td>674.391100</td>\n",
       "      <td>721.335200</td>\n",
       "      <td>675.724400</td>\n",
       "      <td>679.594950</td>\n",
       "      <td>Central Electricity Authority</td>\n",
       "      <td>NaN</td>\n",
       "    </tr>\n",
       "    <tr>\n",
       "      <th>8</th>\n",
       "      <td>IND</td>\n",
       "      <td>India</td>\n",
       "      <td>ALMATTI DAM</td>\n",
       "      <td>IND0000006</td>\n",
       "      <td>290.00</td>\n",
       "      <td>16.3300</td>\n",
       "      <td>75.8863</td>\n",
       "      <td>Hydro</td>\n",
       "      <td>NaN</td>\n",
       "      <td>NaN</td>\n",
       "      <td>...</td>\n",
       "      <td>WRI</td>\n",
       "      <td>NaN</td>\n",
       "      <td>2018.0</td>\n",
       "      <td>504.813250</td>\n",
       "      <td>480.594950</td>\n",
       "      <td>144.434200</td>\n",
       "      <td>402.029750</td>\n",
       "      <td>439.372100</td>\n",
       "      <td>Central Electricity Authority</td>\n",
       "      <td>NaN</td>\n",
       "    </tr>\n",
       "    <tr>\n",
       "      <th>9</th>\n",
       "      <td>IND</td>\n",
       "      <td>India</td>\n",
       "      <td>AMAR KANTAK</td>\n",
       "      <td>IND0000007</td>\n",
       "      <td>210.00</td>\n",
       "      <td>23.1642</td>\n",
       "      <td>81.6373</td>\n",
       "      <td>Coal</td>\n",
       "      <td>Oil</td>\n",
       "      <td>NaN</td>\n",
       "      <td>...</td>\n",
       "      <td>WRI</td>\n",
       "      <td>NaN</td>\n",
       "      <td>2018.0</td>\n",
       "      <td>2642.322000</td>\n",
       "      <td>1887.904000</td>\n",
       "      <td>1643.046000</td>\n",
       "      <td>1338.093000</td>\n",
       "      <td>1563.457000</td>\n",
       "      <td>Central Electricity Authority</td>\n",
       "      <td>NaN</td>\n",
       "    </tr>\n",
       "    <tr>\n",
       "      <th>10</th>\n",
       "      <td>IND</td>\n",
       "      <td>India</td>\n",
       "      <td>AMARAVATI TPP</td>\n",
       "      <td>IND0000008</td>\n",
       "      <td>1350.00</td>\n",
       "      <td>21.0782</td>\n",
       "      <td>77.9009</td>\n",
       "      <td>Coal</td>\n",
       "      <td>Oil</td>\n",
       "      <td>NaN</td>\n",
       "      <td>...</td>\n",
       "      <td>WRI</td>\n",
       "      <td>NaN</td>\n",
       "      <td>2018.0</td>\n",
       "      <td>1034.050000</td>\n",
       "      <td>1920.971000</td>\n",
       "      <td>5629.663000</td>\n",
       "      <td>1701.008000</td>\n",
       "      <td>4350.558000</td>\n",
       "      <td>Central Electricity Authority</td>\n",
       "      <td>NaN</td>\n",
       "    </tr>\n",
       "    <tr>\n",
       "      <th>11</th>\n",
       "      <td>IND</td>\n",
       "      <td>India</td>\n",
       "      <td>ANANDPUR SAHIB ST-I&amp;II</td>\n",
       "      <td>IND0000009</td>\n",
       "      <td>134.00</td>\n",
       "      <td>31.2717</td>\n",
       "      <td>76.4938</td>\n",
       "      <td>Hydro</td>\n",
       "      <td>NaN</td>\n",
       "      <td>NaN</td>\n",
       "      <td>...</td>\n",
       "      <td>WRI</td>\n",
       "      <td>NaN</td>\n",
       "      <td>2018.0</td>\n",
       "      <td>731.334950</td>\n",
       "      <td>614.412500</td>\n",
       "      <td>665.197300</td>\n",
       "      <td>670.500650</td>\n",
       "      <td>644.570950</td>\n",
       "      <td>Central Electricity Authority</td>\n",
       "      <td>NaN</td>\n",
       "    </tr>\n",
       "    <tr>\n",
       "      <th>12</th>\n",
       "      <td>IND</td>\n",
       "      <td>India</td>\n",
       "      <td>ANAPARA \"C\"</td>\n",
       "      <td>IND0000010</td>\n",
       "      <td>1200.00</td>\n",
       "      <td>24.2007</td>\n",
       "      <td>82.8000</td>\n",
       "      <td>Coal</td>\n",
       "      <td>Oil</td>\n",
       "      <td>NaN</td>\n",
       "      <td>...</td>\n",
       "      <td>WRI</td>\n",
       "      <td>NaN</td>\n",
       "      <td>2018.0</td>\n",
       "      <td>6397.000000</td>\n",
       "      <td>7744.000000</td>\n",
       "      <td>8076.810500</td>\n",
       "      <td>7902.021600</td>\n",
       "      <td>7940.740000</td>\n",
       "      <td>Central Electricity Authority</td>\n",
       "      <td>NaN</td>\n",
       "    </tr>\n",
       "    <tr>\n",
       "      <th>13</th>\n",
       "      <td>IND</td>\n",
       "      <td>India</td>\n",
       "      <td>ANDHRA</td>\n",
       "      <td>IND0000011</td>\n",
       "      <td>16.95</td>\n",
       "      <td>31.2412</td>\n",
       "      <td>77.8769</td>\n",
       "      <td>Hydro</td>\n",
       "      <td>NaN</td>\n",
       "      <td>NaN</td>\n",
       "      <td>...</td>\n",
       "      <td>WRI</td>\n",
       "      <td>NaN</td>\n",
       "      <td>2018.0</td>\n",
       "      <td>NaN</td>\n",
       "      <td>NaN</td>\n",
       "      <td>NaN</td>\n",
       "      <td>NaN</td>\n",
       "      <td>NaN</td>\n",
       "      <td>NaN</td>\n",
       "      <td>NaN</td>\n",
       "    </tr>\n",
       "    <tr>\n",
       "      <th>14</th>\n",
       "      <td>IND</td>\n",
       "      <td>India</td>\n",
       "      <td>ANOOPGARH ST I&amp;II</td>\n",
       "      <td>IND0000012</td>\n",
       "      <td>9.00</td>\n",
       "      <td>NaN</td>\n",
       "      <td>NaN</td>\n",
       "      <td>Hydro</td>\n",
       "      <td>NaN</td>\n",
       "      <td>NaN</td>\n",
       "      <td>...</td>\n",
       "      <td>WRI</td>\n",
       "      <td>NaN</td>\n",
       "      <td>2018.0</td>\n",
       "      <td>NaN</td>\n",
       "      <td>NaN</td>\n",
       "      <td>NaN</td>\n",
       "      <td>NaN</td>\n",
       "      <td>NaN</td>\n",
       "      <td>NaN</td>\n",
       "      <td>NaN</td>\n",
       "    </tr>\n",
       "    <tr>\n",
       "      <th>15</th>\n",
       "      <td>IND</td>\n",
       "      <td>India</td>\n",
       "      <td>ANPARA</td>\n",
       "      <td>IND0000013</td>\n",
       "      <td>2630.00</td>\n",
       "      <td>24.2010</td>\n",
       "      <td>82.7891</td>\n",
       "      <td>Coal</td>\n",
       "      <td>Oil</td>\n",
       "      <td>NaN</td>\n",
       "      <td>...</td>\n",
       "      <td>WRI</td>\n",
       "      <td>NaN</td>\n",
       "      <td>2018.0</td>\n",
       "      <td>7132.995000</td>\n",
       "      <td>9670.879000</td>\n",
       "      <td>11151.069472</td>\n",
       "      <td>13227.352350</td>\n",
       "      <td>15334.876300</td>\n",
       "      <td>Central Electricity Authority</td>\n",
       "      <td>NaN</td>\n",
       "    </tr>\n",
       "    <tr>\n",
       "      <th>16</th>\n",
       "      <td>IND</td>\n",
       "      <td>India</td>\n",
       "      <td>ANTA GT</td>\n",
       "      <td>IND0000014</td>\n",
       "      <td>419.33</td>\n",
       "      <td>25.1797</td>\n",
       "      <td>76.3188</td>\n",
       "      <td>Gas</td>\n",
       "      <td>NaN</td>\n",
       "      <td>NaN</td>\n",
       "      <td>...</td>\n",
       "      <td>WRI</td>\n",
       "      <td>NaN</td>\n",
       "      <td>2018.0</td>\n",
       "      <td>1919.942000</td>\n",
       "      <td>1611.987000</td>\n",
       "      <td>909.000000</td>\n",
       "      <td>666.420000</td>\n",
       "      <td>430.000000</td>\n",
       "      <td>Central Electricity Authority</td>\n",
       "      <td>NaN</td>\n",
       "    </tr>\n",
       "    <tr>\n",
       "      <th>17</th>\n",
       "      <td>IND</td>\n",
       "      <td>India</td>\n",
       "      <td>ANUPPUR</td>\n",
       "      <td>WRI1019996</td>\n",
       "      <td>600.00</td>\n",
       "      <td>23.0666</td>\n",
       "      <td>81.7841</td>\n",
       "      <td>Coal</td>\n",
       "      <td>NaN</td>\n",
       "      <td>NaN</td>\n",
       "      <td>...</td>\n",
       "      <td>WRI</td>\n",
       "      <td>NaN</td>\n",
       "      <td>NaN</td>\n",
       "      <td>NaN</td>\n",
       "      <td>NaN</td>\n",
       "      <td>NaN</td>\n",
       "      <td>NaN</td>\n",
       "      <td>NaN</td>\n",
       "      <td>NaN</td>\n",
       "      <td>NaN</td>\n",
       "    </tr>\n",
       "    <tr>\n",
       "      <th>18</th>\n",
       "      <td>IND</td>\n",
       "      <td>India</td>\n",
       "      <td>ANUPUR TPP</td>\n",
       "      <td>IND0000015</td>\n",
       "      <td>1200.00</td>\n",
       "      <td>23.0655</td>\n",
       "      <td>81.7865</td>\n",
       "      <td>Coal</td>\n",
       "      <td>Oil</td>\n",
       "      <td>NaN</td>\n",
       "      <td>...</td>\n",
       "      <td>WRI</td>\n",
       "      <td>NaN</td>\n",
       "      <td>2018.0</td>\n",
       "      <td>NaN</td>\n",
       "      <td>NaN</td>\n",
       "      <td>2702.823200</td>\n",
       "      <td>3515.749600</td>\n",
       "      <td>5777.120000</td>\n",
       "      <td>Central Electricity Authority</td>\n",
       "      <td>NaN</td>\n",
       "    </tr>\n",
       "    <tr>\n",
       "      <th>19</th>\n",
       "      <td>IND</td>\n",
       "      <td>India</td>\n",
       "      <td>ARVINDNAGAR SUGAR</td>\n",
       "      <td>WRI1019938</td>\n",
       "      <td>10.00</td>\n",
       "      <td>18.0845</td>\n",
       "      <td>76.1851</td>\n",
       "      <td>Biomass</td>\n",
       "      <td>NaN</td>\n",
       "      <td>NaN</td>\n",
       "      <td>...</td>\n",
       "      <td>WRI</td>\n",
       "      <td>NaN</td>\n",
       "      <td>NaN</td>\n",
       "      <td>NaN</td>\n",
       "      <td>NaN</td>\n",
       "      <td>NaN</td>\n",
       "      <td>NaN</td>\n",
       "      <td>NaN</td>\n",
       "      <td>NaN</td>\n",
       "      <td>NaN</td>\n",
       "    </tr>\n",
       "  </tbody>\n",
       "</table>\n",
       "<p>20 rows × 25 columns</p>\n",
       "</div>"
      ],
      "text/plain": [
       "   country country_long                      name   gppd_idnr  capacity_mw  \\\n",
       "0      IND        India          ACME Solar Tower  WRI1020239         2.50   \n",
       "1      IND        India       ADITYA CEMENT WORKS  WRI1019881        98.00   \n",
       "2      IND        India  AES Saurashtra Windfarms  WRI1026669        39.20   \n",
       "3      IND        India               AGARTALA GT  IND0000001       135.00   \n",
       "4      IND        India              AKALTARA TPP  IND0000002      1800.00   \n",
       "5      IND        India              AKRIMOTA LIG  IND0000003       250.00   \n",
       "6      IND        India                    ALIYAR  IND0000004        60.00   \n",
       "7      IND        India           ALLAIN DUHANGAN  IND0000005       192.00   \n",
       "8      IND        India               ALMATTI DAM  IND0000006       290.00   \n",
       "9      IND        India               AMAR KANTAK  IND0000007       210.00   \n",
       "10     IND        India             AMARAVATI TPP  IND0000008      1350.00   \n",
       "11     IND        India    ANANDPUR SAHIB ST-I&II  IND0000009       134.00   \n",
       "12     IND        India               ANAPARA \"C\"  IND0000010      1200.00   \n",
       "13     IND        India                    ANDHRA  IND0000011        16.95   \n",
       "14     IND        India         ANOOPGARH ST I&II  IND0000012         9.00   \n",
       "15     IND        India                    ANPARA  IND0000013      2630.00   \n",
       "16     IND        India                   ANTA GT  IND0000014       419.33   \n",
       "17     IND        India                   ANUPPUR  WRI1019996       600.00   \n",
       "18     IND        India                ANUPUR TPP  IND0000015      1200.00   \n",
       "19     IND        India         ARVINDNAGAR SUGAR  WRI1019938        10.00   \n",
       "\n",
       "    latitude  longitude primary_fuel other_fuel1 other_fuel2  ...  \\\n",
       "0    28.1839    73.2407        Solar         NaN         NaN  ...   \n",
       "1    24.7663    74.6090         Coal         NaN         NaN  ...   \n",
       "2    21.9038    69.3732         Wind         NaN         NaN  ...   \n",
       "3    23.8712    91.3602          Gas         NaN         NaN  ...   \n",
       "4    21.9603    82.4091         Coal         Oil         NaN  ...   \n",
       "5    23.7689    68.6447         Coal         Oil         NaN  ...   \n",
       "6    10.4547    77.0078        Hydro         NaN         NaN  ...   \n",
       "7    32.2258    77.2070        Hydro         NaN         NaN  ...   \n",
       "8    16.3300    75.8863        Hydro         NaN         NaN  ...   \n",
       "9    23.1642    81.6373         Coal         Oil         NaN  ...   \n",
       "10   21.0782    77.9009         Coal         Oil         NaN  ...   \n",
       "11   31.2717    76.4938        Hydro         NaN         NaN  ...   \n",
       "12   24.2007    82.8000         Coal         Oil         NaN  ...   \n",
       "13   31.2412    77.8769        Hydro         NaN         NaN  ...   \n",
       "14       NaN        NaN        Hydro         NaN         NaN  ...   \n",
       "15   24.2010    82.7891         Coal         Oil         NaN  ...   \n",
       "16   25.1797    76.3188          Gas         NaN         NaN  ...   \n",
       "17   23.0666    81.7841         Coal         NaN         NaN  ...   \n",
       "18   23.0655    81.7865         Coal         Oil         NaN  ...   \n",
       "19   18.0845    76.1851      Biomass         NaN         NaN  ...   \n",
       "\n",
       "                      geolocation_source  wepp_id year_of_capacity_data  \\\n",
       "0   National Renewable Energy Laboratory      NaN                   NaN   \n",
       "1                                    WRI      NaN                   NaN   \n",
       "2                                    WRI      NaN                   NaN   \n",
       "3                                    WRI      NaN                2018.0   \n",
       "4                                    WRI      NaN                2018.0   \n",
       "5                                    WRI      NaN                2018.0   \n",
       "6                                    WRI      NaN                2018.0   \n",
       "7                                    WRI      NaN                2018.0   \n",
       "8                                    WRI      NaN                2018.0   \n",
       "9                                    WRI      NaN                2018.0   \n",
       "10                                   WRI      NaN                2018.0   \n",
       "11                                   WRI      NaN                2018.0   \n",
       "12                                   WRI      NaN                2018.0   \n",
       "13                                   WRI      NaN                2018.0   \n",
       "14                                   WRI      NaN                2018.0   \n",
       "15                                   WRI      NaN                2018.0   \n",
       "16                                   WRI      NaN                2018.0   \n",
       "17                                   WRI      NaN                   NaN   \n",
       "18                                   WRI      NaN                2018.0   \n",
       "19                                   WRI      NaN                   NaN   \n",
       "\n",
       "   generation_gwh_2013 generation_gwh_2014 generation_gwh_2015  \\\n",
       "0                  NaN                 NaN                 NaN   \n",
       "1                  NaN                 NaN                 NaN   \n",
       "2                  NaN                 NaN                 NaN   \n",
       "3           631.777928          617.789264          843.747000   \n",
       "4          1668.290000         3035.550000         5916.370000   \n",
       "5           821.798000         1153.421000         1208.852000   \n",
       "6           147.568450          157.558250          152.195200   \n",
       "7           696.738800          674.391100          721.335200   \n",
       "8           504.813250          480.594950          144.434200   \n",
       "9          2642.322000         1887.904000         1643.046000   \n",
       "10         1034.050000         1920.971000         5629.663000   \n",
       "11          731.334950          614.412500          665.197300   \n",
       "12         6397.000000         7744.000000         8076.810500   \n",
       "13                 NaN                 NaN                 NaN   \n",
       "14                 NaN                 NaN                 NaN   \n",
       "15         7132.995000         9670.879000        11151.069472   \n",
       "16         1919.942000         1611.987000          909.000000   \n",
       "17                 NaN                 NaN                 NaN   \n",
       "18                 NaN                 NaN         2702.823200   \n",
       "19                 NaN                 NaN                 NaN   \n",
       "\n",
       "    generation_gwh_2016  generation_gwh_2017         generation_data_source  \\\n",
       "0                   NaN                  NaN                            NaN   \n",
       "1                   NaN                  NaN                            NaN   \n",
       "2                   NaN                  NaN                            NaN   \n",
       "3            886.004428           663.774500  Central Electricity Authority   \n",
       "4           6243.000000          5385.579736  Central Electricity Authority   \n",
       "5           1175.765000          1147.913000  Central Electricity Authority   \n",
       "6             61.421350            89.629600  Central Electricity Authority   \n",
       "7            675.724400           679.594950  Central Electricity Authority   \n",
       "8            402.029750           439.372100  Central Electricity Authority   \n",
       "9           1338.093000          1563.457000  Central Electricity Authority   \n",
       "10          1701.008000          4350.558000  Central Electricity Authority   \n",
       "11           670.500650           644.570950  Central Electricity Authority   \n",
       "12          7902.021600          7940.740000  Central Electricity Authority   \n",
       "13                  NaN                  NaN                            NaN   \n",
       "14                  NaN                  NaN                            NaN   \n",
       "15         13227.352350         15334.876300  Central Electricity Authority   \n",
       "16           666.420000           430.000000  Central Electricity Authority   \n",
       "17                  NaN                  NaN                            NaN   \n",
       "18          3515.749600          5777.120000  Central Electricity Authority   \n",
       "19                  NaN                  NaN                            NaN   \n",
       "\n",
       "    estimated_generation_gwh  \n",
       "0                        NaN  \n",
       "1                        NaN  \n",
       "2                        NaN  \n",
       "3                        NaN  \n",
       "4                        NaN  \n",
       "5                        NaN  \n",
       "6                        NaN  \n",
       "7                        NaN  \n",
       "8                        NaN  \n",
       "9                        NaN  \n",
       "10                       NaN  \n",
       "11                       NaN  \n",
       "12                       NaN  \n",
       "13                       NaN  \n",
       "14                       NaN  \n",
       "15                       NaN  \n",
       "16                       NaN  \n",
       "17                       NaN  \n",
       "18                       NaN  \n",
       "19                       NaN  \n",
       "\n",
       "[20 rows x 25 columns]"
      ]
     },
     "execution_count": 3,
     "metadata": {},
     "output_type": "execute_result"
    }
   ],
   "source": [
    "#Read csv file and convert into dataframe\n",
    "df = pd.read_csv(\"Global_Power_Plant.csv\")\n",
    "df.head(20)"
   ]
  },
  {
   "cell_type": "markdown",
   "metadata": {},
   "source": [
    "# Data pre-processing"
   ]
  },
  {
   "cell_type": "code",
   "execution_count": 4,
   "metadata": {},
   "outputs": [
    {
     "data": {
      "text/plain": [
       "(908, 25)"
      ]
     },
     "execution_count": 4,
     "metadata": {},
     "output_type": "execute_result"
    }
   ],
   "source": [
    "# Size of data\n",
    "df.shape\n",
    "#There are 908 rows and 25 columns"
   ]
  },
  {
   "cell_type": "code",
   "execution_count": 3,
   "metadata": {},
   "outputs": [],
   "source": [
    "#lets drop country and country_long lolumn as its just contains country name\n",
    "colms = [\"country\",\"country_long\"]\n",
    "df.drop(columns = colms, axis = 1, inplace = True)"
   ]
  },
  {
   "cell_type": "code",
   "execution_count": 4,
   "metadata": {},
   "outputs": [
    {
     "data": {
      "text/plain": [
       "Central Electricity Authority    450\n",
       "Name: generation_data_source, dtype: int64"
      ]
     },
     "execution_count": 4,
     "metadata": {},
     "output_type": "execute_result"
    }
   ],
   "source": [
    "#lets check entries in generation_data_source column\n",
    "df[\"generation_data_source\"].value_counts()"
   ]
  },
  {
   "cell_type": "code",
   "execution_count": 5,
   "metadata": {},
   "outputs": [],
   "source": [
    "#As generation_data_source column has same entries through out we will drop this column\n",
    "df.drop(columns = \"generation_data_source\", inplace = True)"
   ]
  },
  {
   "cell_type": "code",
   "execution_count": 6,
   "metadata": {},
   "outputs": [
    {
     "data": {
      "text/plain": [
       "(908, 22)"
      ]
     },
     "execution_count": 6,
     "metadata": {},
     "output_type": "execute_result"
    }
   ],
   "source": [
    "#check the shape of our data, to know number of samples\n",
    "df.shape"
   ]
  },
  {
   "cell_type": "code",
   "execution_count": 7,
   "metadata": {},
   "outputs": [
    {
     "name": "stdout",
     "output_type": "stream",
     "text": [
      "<class 'pandas.core.frame.DataFrame'>\n",
      "RangeIndex: 908 entries, 0 to 907\n",
      "Data columns (total 22 columns):\n",
      " #   Column                    Non-Null Count  Dtype  \n",
      "---  ------                    --------------  -----  \n",
      " 0   name                      908 non-null    object \n",
      " 1   gppd_idnr                 908 non-null    object \n",
      " 2   capacity_mw               908 non-null    float64\n",
      " 3   latitude                  862 non-null    float64\n",
      " 4   longitude                 862 non-null    float64\n",
      " 5   primary_fuel              908 non-null    object \n",
      " 6   other_fuel1               199 non-null    object \n",
      " 7   other_fuel2               1 non-null      object \n",
      " 8   other_fuel3               0 non-null      float64\n",
      " 9   commissioning_year        528 non-null    float64\n",
      " 10  owner                     342 non-null    object \n",
      " 11  source                    908 non-null    object \n",
      " 12  url                       908 non-null    object \n",
      " 13  geolocation_source        889 non-null    object \n",
      " 14  wepp_id                   0 non-null      float64\n",
      " 15  year_of_capacity_data     520 non-null    float64\n",
      " 16  generation_gwh_2013       384 non-null    float64\n",
      " 17  generation_gwh_2014       401 non-null    float64\n",
      " 18  generation_gwh_2015       425 non-null    float64\n",
      " 19  generation_gwh_2016       437 non-null    float64\n",
      " 20  generation_gwh_2017       443 non-null    float64\n",
      " 21  estimated_generation_gwh  0 non-null      float64\n",
      "dtypes: float64(13), object(9)\n",
      "memory usage: 156.2+ KB\n"
     ]
    }
   ],
   "source": [
    "#Lets check the info \n",
    "df.info()"
   ]
  },
  {
   "cell_type": "code",
   "execution_count": 8,
   "metadata": {},
   "outputs": [],
   "source": [
    "\n",
    "#In columns estimated_generation_gwh and wepp_id all entries are null so we will drop these also\n",
    "col = [\"estimated_generation_gwh\",\"wepp_id\"]\n",
    "df.drop(columns = col, inplace = True)"
   ]
  },
  {
   "cell_type": "code",
   "execution_count": 9,
   "metadata": {},
   "outputs": [
    {
     "data": {
      "text/plain": [
       "NAGOTHANE COMPLEX         1\n",
       "BARH STPP II              1\n",
       "WARDHA WORKS              1\n",
       "E.G. CANAL                1\n",
       "MRMPL Mudari Wind Farm    1\n",
       "                         ..\n",
       "PERIYAR                   1\n",
       "KUNDAH I-V                1\n",
       "GADEPAN WORKS             1\n",
       "ROPAR                     1\n",
       "SEWA-III                  1\n",
       "Name: name, Length: 908, dtype: int64"
      ]
     },
     "execution_count": 9,
     "metadata": {},
     "output_type": "execute_result"
    }
   ],
   "source": [
    "\n",
    "#lets check the name column entries\n",
    "df['name'].value_counts()"
   ]
  },
  {
   "cell_type": "code",
   "execution_count": 10,
   "metadata": {},
   "outputs": [],
   "source": [
    "df.drop(columns = \"name\", inplace = True)"
   ]
  },
  {
   "cell_type": "code",
   "execution_count": 11,
   "metadata": {},
   "outputs": [
    {
     "data": {
      "text/plain": [
       "WRI1026108    1\n",
       "IND0000317    1\n",
       "IND0000142    1\n",
       "IND0000437    1\n",
       "IND0000456    1\n",
       "             ..\n",
       "IND0000071    1\n",
       "IND0000215    1\n",
       "IND0000096    1\n",
       "WRI1019994    1\n",
       "IND0000363    1\n",
       "Name: gppd_idnr, Length: 908, dtype: int64"
      ]
     },
     "execution_count": 11,
     "metadata": {},
     "output_type": "execute_result"
    }
   ],
   "source": [
    "# lets check entries in gppd_idnr\n",
    "df[\"gppd_idnr\"].value_counts()"
   ]
  },
  {
   "cell_type": "code",
   "execution_count": 12,
   "metadata": {},
   "outputs": [],
   "source": [
    "#this column also contains unique ID for every plant so we will drop this column as it is not required for prediction.\n",
    "df.drop(columns = \"gppd_idnr\", inplace = True)"
   ]
  },
  {
   "cell_type": "code",
   "execution_count": 13,
   "metadata": {},
   "outputs": [],
   "source": [
    "\n",
    "#other_fuel1 column contains about 78% null data\n",
    "#other_fuel2 contains only one entry\n",
    "#other_fuel3 contains 0 entries \n",
    "# So I decided to drop these columns\n",
    "drop_clms = [\"other_fuel1\",\"other_fuel2\",\"other_fuel3\"]\n",
    "df.drop(columns = drop_clms, inplace = True)"
   ]
  },
  {
   "cell_type": "code",
   "execution_count": 14,
   "metadata": {},
   "outputs": [],
   "source": [
    "#column url is not contributing to prediction, we will drop this column as well\n",
    "df.drop(columns = \"url\", inplace = True)"
   ]
  },
  {
   "cell_type": "code",
   "execution_count": 15,
   "metadata": {},
   "outputs": [],
   "source": [
    "#owner column has more than 60% of null values, and it may not required for prediction also, we can drop this column\n",
    "df.drop(columns = \"owner\", inplace = True)"
   ]
  },
  {
   "cell_type": "code",
   "execution_count": 16,
   "metadata": {},
   "outputs": [
    {
     "data": {
      "text/plain": [
       "array([  nan, 2018.])"
      ]
     },
     "execution_count": 16,
     "metadata": {},
     "output_type": "execute_result"
    }
   ],
   "source": [
    "\n",
    "#check year_of_capacity_data column\n",
    "df[\"year_of_capacity_data\"].unique()\n",
    "#as it is having same entries through out, we can drop this column also"
   ]
  },
  {
   "cell_type": "code",
   "execution_count": 17,
   "metadata": {},
   "outputs": [],
   "source": [
    "df.drop(columns = \"year_of_capacity_data\", inplace = True)"
   ]
  },
  {
   "cell_type": "code",
   "execution_count": 18,
   "metadata": {},
   "outputs": [],
   "source": [
    "#As latitude ans longitude having only geometricat co-ordinates and it will not cpntributing to target variables, we can drop these columns \n",
    "clms = [\"latitude\",\"longitude\"]\n",
    "df.drop(columns = clms, inplace = True)"
   ]
  },
  {
   "cell_type": "code",
   "execution_count": 19,
   "metadata": {},
   "outputs": [
    {
     "data": {
      "text/plain": [
       "capacity_mw              0\n",
       "primary_fuel             0\n",
       "commissioning_year     380\n",
       "source                   0\n",
       "geolocation_source      19\n",
       "generation_gwh_2013    524\n",
       "generation_gwh_2014    507\n",
       "generation_gwh_2015    483\n",
       "generation_gwh_2016    471\n",
       "generation_gwh_2017    465\n",
       "dtype: int64"
      ]
     },
     "execution_count": 19,
     "metadata": {},
     "output_type": "execute_result"
    }
   ],
   "source": [
    "#lets check null values in dataset\n",
    "df.isnull().sum()"
   ]
  },
  {
   "cell_type": "code",
   "execution_count": 20,
   "metadata": {},
   "outputs": [
    {
     "data": {
      "text/plain": [
       "2013.0    28\n",
       "2015.0    26\n",
       "2012.0    23\n",
       "2016.0    21\n",
       "2014.0    17\n",
       "          ..\n",
       "1939.0     1\n",
       "1927.0     1\n",
       "1949.0     1\n",
       "1956.0     1\n",
       "1969.0     1\n",
       "Name: commissioning_year, Length: 73, dtype: int64"
      ]
     },
     "execution_count": 20,
     "metadata": {},
     "output_type": "execute_result"
    }
   ],
   "source": [
    "df[\"commissioning_year\"].value_counts()"
   ]
  },
  {
   "cell_type": "code",
   "execution_count": 21,
   "metadata": {},
   "outputs": [],
   "source": [
    "\n",
    "#Lets impute missing values\n",
    "df.fillna(value = 0 ,inplace = True)   #replace NaN with 0\n",
    "df['commissioning_year'].replace(0, df['commissioning_year'].median(),inplace = True)"
   ]
  },
  {
   "cell_type": "code",
   "execution_count": 22,
   "metadata": {},
   "outputs": [],
   "source": [
    "#lets use commissioning_year to know how old the power plant is and make a column Power_plant_Years\n",
    "df['Power_plant_Years'] = 2018 - df['commissioning_year']\n",
    "df.drop(columns=[\"commissioning_year\"],inplace=True)"
   ]
  },
  {
   "cell_type": "code",
   "execution_count": 23,
   "metadata": {},
   "outputs": [],
   "source": [
    "#Lets impute all the null values from below columns with their respective median\n",
    "df['generation_gwh_2013'].replace(0, df['generation_gwh_2013'].median(),inplace = True)\n",
    "\n",
    "df['generation_gwh_2014'].replace(0, df['generation_gwh_2014'].median(),inplace = True)\n",
    "\n",
    "df['generation_gwh_2015'].replace(0, df['generation_gwh_2015'].median(),inplace = True)\n",
    "\n",
    "df['generation_gwh_2016'].replace(0, df['generation_gwh_2016'].median(),inplace = True)\n",
    "\n",
    "df['generation_gwh_2017'].replace(0, df['generation_gwh_2017'].median(),inplace = True)"
   ]
  },
  {
   "cell_type": "code",
   "execution_count": 24,
   "metadata": {},
   "outputs": [
    {
     "data": {
      "text/plain": [
       "capacity_mw            0\n",
       "primary_fuel           0\n",
       "source                 0\n",
       "geolocation_source     0\n",
       "generation_gwh_2013    0\n",
       "generation_gwh_2014    0\n",
       "generation_gwh_2015    0\n",
       "generation_gwh_2016    0\n",
       "generation_gwh_2017    0\n",
       "Power_plant_Years      0\n",
       "dtype: int64"
      ]
     },
     "execution_count": 24,
     "metadata": {},
     "output_type": "execute_result"
    }
   ],
   "source": [
    "#check for null values again\n",
    "df.isnull().sum()"
   ]
  },
  {
   "cell_type": "code",
   "execution_count": 25,
   "metadata": {},
   "outputs": [
    {
     "data": {
      "text/plain": [
       "WRI                                     766\n",
       "Industry About                          119\n",
       "0                                        19\n",
       "National Renewable Energy Laboratory      4\n",
       "Name: geolocation_source, dtype: int64"
      ]
     },
     "execution_count": 25,
     "metadata": {},
     "output_type": "execute_result"
    }
   ],
   "source": [
    "#Lets have a look on entries from geolocation_source column\n",
    "df[\"geolocation_source\"].value_counts()"
   ]
  },
  {
   "cell_type": "code",
   "execution_count": 26,
   "metadata": {},
   "outputs": [],
   "source": [
    "#we will replace 0 with most frequent element in geolocation_source column\n",
    "df['geolocation_source'].replace(0, 'WRI',inplace = True)"
   ]
  },
  {
   "cell_type": "code",
   "execution_count": 27,
   "metadata": {},
   "outputs": [
    {
     "data": {
      "image/png": "[encoded data removed]",
      "text/plain": [
       "<Figure size 432x288 with 1 Axes>"
      ]
     },
     "metadata": {},
     "output_type": "display_data"
    }
   ],
   "source": [
    "#lets see how plant age affects capacity_mw\n",
    "plt.style.use('ggplot')\n",
    "sns.scatterplot(x = \"Power_plant_Years\", y = \"capacity_mw\", data = df)\n",
    "plt.show()"
   ]
  },
  {
   "cell_type": "markdown",
   "metadata": {},
   "source": [
    "From the above analysis we can say that older powerplants has lower capacity_mw compared to plants which have started recently."
   ]
  },
  {
   "cell_type": "code",
   "execution_count": 28,
   "metadata": {},
   "outputs": [
    {
     "data": {
      "image/png": "[encoded data removed]",
      "text/plain": [
       "<Figure size 432x288 with 1 Axes>"
      ]
     },
     "metadata": {},
     "output_type": "display_data"
    }
   ],
   "source": [
    "#lets have a look on relation between fuel used and powerplant age\n",
    "sns.barplot(x = \"primary_fuel\", y = \"Power_plant_Years\", data = df)\n",
    "plt.show()"
   ]
  },
  {
   "cell_type": "markdown",
   "metadata": {},
   "source": [
    "-> From this plot we can say that most of the older plants uses biomass, solar and wind energy to generate electricity.\n",
    "\n",
    "-> And the power plants which are started recently uses coal, gases and nuclear energy to generate electricity."
   ]
  },
  {
   "cell_type": "code",
   "execution_count": 29,
   "metadata": {},
   "outputs": [
    {
     "data": {
      "image/png": "[encoded data removed]",
      "text/plain": [
       "<Figure size 720x360 with 1 Axes>"
      ]
     },
     "metadata": {},
     "output_type": "display_data"
    }
   ],
   "source": [
    "#Lets have a look on relation between source and capacity_mw\n",
    "plt.figure(figsize = (10,5))\n",
    "sns.barplot(x = \"geolocation_source\", y = \"capacity_mw\", data = df)\n",
    "plt.show()"
   ]
  },
  {
   "cell_type": "markdown",
   "metadata": {},
   "source": [
    "Here we can see there are maximum number of geolocation_source of category WRI."
   ]
  },
  {
   "cell_type": "code",
   "execution_count": 30,
   "metadata": {},
   "outputs": [
    {
     "data": {
      "image/png": "[encoded data removed]",
      "text/plain": [
       "<Figure size 720x360 with 1 Axes>"
      ]
     },
     "metadata": {},
     "output_type": "display_data"
    }
   ],
   "source": [
    "#lets see how geolocation_source related with primary fuel\n",
    "plt.figure(figsize = (10,5))\n",
    "sns.countplot(x = \"primary_fuel\", hue = \"geolocation_source\", data = df)\n",
    "plt.legend()\n",
    "plt.legend(loc = 'upper right')\n",
    "plt.show()"
   ]
  },
  {
   "cell_type": "markdown",
   "metadata": {},
   "source": [
    "For solar plants only the geolocation_source is of three different types, and for rest all plants the geolocation_source is WRI."
   ]
  },
  {
   "cell_type": "code",
   "execution_count": 31,
   "metadata": {},
   "outputs": [
    {
     "data": {
      "image/png": "[encoded data removed]",
      "text/plain": [
       "<Figure size 432x288 with 1 Axes>"
      ]
     },
     "metadata": {},
     "output_type": "display_data"
    }
   ],
   "source": [
    "#lets have a look on generation_gwh_2013 vs capacity_mw\n",
    "sns.scatterplot(x = 'generation_gwh_2013', y = 'capacity_mw', data = df)\n",
    "plt.show()"
   ]
  },
  {
   "cell_type": "markdown",
   "metadata": {},
   "source": [
    "This will tell us when power generation growth is more than 5000, capacity_mw is also above 1000MW."
   ]
  },
  {
   "cell_type": "code",
   "execution_count": 32,
   "metadata": {},
   "outputs": [
    {
     "data": {
      "image/png": "[encoded data removed]",
      "text/plain": [
       "<Figure size 432x288 with 1 Axes>"
      ]
     },
     "metadata": {},
     "output_type": "display_data"
    }
   ],
   "source": [
    "#lets have a look on generation_gwh_2014 vs capacity_mw\n",
    "sns.scatterplot(x = 'generation_gwh_2014', y = 'capacity_mw', data = df)\n",
    "plt.show()"
   ]
  },
  {
   "cell_type": "markdown",
   "metadata": {},
   "source": [
    "Here also generation_gwh_2014 is linearly related to capacity_mw and maximum generation growth is below 30000."
   ]
  },
  {
   "cell_type": "code",
   "execution_count": 33,
   "metadata": {},
   "outputs": [
    {
     "data": {
      "image/png": "[encoded data removed]",
      "text/plain": [
       "<Figure size 432x288 with 1 Axes>"
      ]
     },
     "metadata": {},
     "output_type": "display_data"
    }
   ],
   "source": [
    "#lets have a look on generation_gwh_2015 vs capacity_mw\n",
    "sns.scatterplot(x = 'generation_gwh_2015', y = 'capacity_mw', data = df)\n",
    "plt.show()"
   ]
  },
  {
   "cell_type": "markdown",
   "metadata": {},
   "source": [
    "We can see generation_gwh_2015 is linearly related to capacity_mw, and maximum generation growth is slightly more than 30000"
   ]
  },
  {
   "cell_type": "code",
   "execution_count": 34,
   "metadata": {},
   "outputs": [
    {
     "data": {
      "image/png": "[encoded data removed]",
      "text/plain": [
       "<Figure size 432x288 with 1 Axes>"
      ]
     },
     "metadata": {},
     "output_type": "display_data"
    }
   ],
   "source": [
    "\n",
    "#lets have a look on generation_gwh_2016 vs capacity_mw\n",
    "sns.scatterplot(x = 'generation_gwh_2016', y = 'capacity_mw', data = df)\n",
    "plt.show()"
   ]
  },
  {
   "cell_type": "markdown",
   "metadata": {},
   "source": [
    "We can see generation_gwh_2016 is linearly related to capacity_mw, and maximum generation growth is close to 30000"
   ]
  },
  {
   "cell_type": "code",
   "execution_count": 35,
   "metadata": {},
   "outputs": [
    {
     "data": {
      "image/png": "[encoded data removed]",
      "text/plain": [
       "<Figure size 432x288 with 1 Axes>"
      ]
     },
     "metadata": {},
     "output_type": "display_data"
    }
   ],
   "source": [
    "#lets have a look on generation_gwh_2017 vs capacity_mw\n",
    "sns.scatterplot(x = 'generation_gwh_2017', y = 'capacity_mw', data = df)\n",
    "plt.show()"
   ]
  },
  {
   "cell_type": "markdown",
   "metadata": {},
   "source": [
    "Among these four yeae the maximumm generation growth is observed in generation_gwh_2017 that is around 35000."
   ]
  },
  {
   "cell_type": "code",
   "execution_count": 36,
   "metadata": {},
   "outputs": [
    {
     "data": {
      "image/png": "[encoded data removed]",
      "text/plain": [
       "<Figure size 720x360 with 1 Axes>"
      ]
     },
     "metadata": {},
     "output_type": "display_data"
    }
   ],
   "source": [
    "\n",
    "#check how primary fuel affects capacity_mw\n",
    "plt.figure(figsize=(10,5))\n",
    "pd=sns.countplot(df[\"primary_fuel\"])\n",
    "for p in pd.patches:\n",
    "    pd.annotate(format(p.get_height(), '.0f'), \n",
    "                   (p.get_x() + p.get_width() / 2., p.get_height()), \n",
    "                   ha = 'center', va = 'center', \n",
    "                   size=18,\n",
    "                   xytext = (0, -20), \n",
    "                   textcoords = 'offset points')"
   ]
  },
  {
   "cell_type": "markdown",
   "metadata": {},
   "source": [
    "->Here we can say in India there are large number of hydro and coal power generation plants compared to others.\n",
    "\n",
    "->Power plants using wind and solar energy are moderate in numbers.\n",
    "\n",
    "->There are very less number of plants using Oil and nuclear energy to generate power"
   ]
  },
  {
   "cell_type": "code",
   "execution_count": 37,
   "metadata": {},
   "outputs": [
    {
     "data": {
      "image/png": "[encoded data removed]",
      "text/plain": [
       "<Figure size 720x360 with 1 Axes>"
      ]
     },
     "metadata": {},
     "output_type": "display_data"
    }
   ],
   "source": [
    "#Lets plot the bar plot for primary_fuel based on capaciy_mw\n",
    "plt.figure(figsize=(10,5))\n",
    "pd=sns.barplot(x = 'primary_fuel', y = 'capacity_mw', data = df)\n",
    "for p in pd.patches:\n",
    "    pd.annotate(format(p.get_height(), '.0f'), \n",
    "                   (p.get_x() + p.get_width() / 2., p.get_height()), \n",
    "                   ha = 'center', va = 'center', \n",
    "                   size=18,\n",
    "                   xytext = (0, -20), \n",
    "                   textcoords = 'offset points')"
   ]
  },
  {
   "cell_type": "markdown",
   "metadata": {},
   "source": [
    "->This will tell us the electrical generating capacity (capacity_mw) is high in case of Nuclear power plants, and coal power plants has capacity_mw next to it.\n",
    "\n",
    "-> Other Plants has less capacity"
   ]
  },
  {
   "cell_type": "code",
   "execution_count": 38,
   "metadata": {},
   "outputs": [],
   "source": [
    "#encode primary_fuel also as it is our second target variable, and we will check the correlation of it with other features\n",
    "from sklearn.preprocessing import LabelEncoder\n",
    "le = LabelEncoder()\n",
    "df['primary_fuel'] = le.fit_transform(df['primary_fuel'])"
   ]
  },
  {
   "cell_type": "code",
   "execution_count": 39,
   "metadata": {},
   "outputs": [
    {
     "data": {
      "image/png": "[encoded data removed]",
      "text/plain": [
       "<Figure size 1800x1080 with 2 Axes>"
      ]
     },
     "metadata": {},
     "output_type": "display_data"
    }
   ],
   "source": [
    "#Lets plot heatmap to check correlation among differnt features and label\n",
    "df_corr = df.corr()\n",
    "plt.figure(figsize = (25,15))\n",
    "sns.heatmap(df_corr,vmin=-1,vmax=1,annot=True,square=True,center=0,fmt='.2g',linewidths=0.1)\n",
    "plt.tight_layout()"
   ]
  },
  {
   "cell_type": "markdown",
   "metadata": {},
   "source": [
    "->We can see generation growths from every year are strongly correlated with each other, and also strongly related to capacity_mw\n",
    "\n",
    "->All the features are having negative coefficient of correlation with primary_fuel, except power_plant_years which is positively related with primary_fuel\n",
    "\n",
    "->Primary_fuel and Power_plant_years are negatively correlated with capacity_mw,rest all arein positive relation"
   ]
  },
  {
   "cell_type": "code",
   "execution_count": 40,
   "metadata": {},
   "outputs": [
    {
     "data": {
      "text/html": [
       "<div>\n",
       "<style scoped>\n",
       "    .dataframe tbody tr th:only-of-type {\n",
       "        vertical-align: middle;\n",
       "    }\n",
       "\n",
       "    .dataframe tbody tr th {\n",
       "        vertical-align: top;\n",
       "    }\n",
       "\n",
       "    .dataframe thead th {\n",
       "        text-align: right;\n",
       "    }\n",
       "</style>\n",
       "<table border=\"1\" class=\"dataframe\">\n",
       "  <thead>\n",
       "    <tr style=\"text-align: right;\">\n",
       "      <th></th>\n",
       "      <th>capacity_mw</th>\n",
       "      <th>primary_fuel</th>\n",
       "      <th>generation_gwh_2013</th>\n",
       "      <th>generation_gwh_2014</th>\n",
       "      <th>generation_gwh_2015</th>\n",
       "      <th>generation_gwh_2016</th>\n",
       "      <th>generation_gwh_2017</th>\n",
       "      <th>Power_plant_Years</th>\n",
       "    </tr>\n",
       "  </thead>\n",
       "  <tbody>\n",
       "    <tr>\n",
       "      <th>count</th>\n",
       "      <td>908.000000</td>\n",
       "      <td>908.000000</td>\n",
       "      <td>908.000000</td>\n",
       "      <td>908.000000</td>\n",
       "      <td>908.000000</td>\n",
       "      <td>908.000000</td>\n",
       "      <td>908.000000</td>\n",
       "      <td>908.000000</td>\n",
       "    </tr>\n",
       "    <tr>\n",
       "      <th>mean</th>\n",
       "      <td>321.046378</td>\n",
       "      <td>3.205947</td>\n",
       "      <td>974.403892</td>\n",
       "      <td>1068.918194</td>\n",
       "      <td>1129.934756</td>\n",
       "      <td>1181.024405</td>\n",
       "      <td>1235.206195</td>\n",
       "      <td>29.023128</td>\n",
       "    </tr>\n",
       "    <tr>\n",
       "      <th>std</th>\n",
       "      <td>580.221767</td>\n",
       "      <td>2.281339</td>\n",
       "      <td>2716.222621</td>\n",
       "      <td>2924.098882</td>\n",
       "      <td>3103.712012</td>\n",
       "      <td>3129.230619</td>\n",
       "      <td>3185.504866</td>\n",
       "      <td>15.989954</td>\n",
       "    </tr>\n",
       "    <tr>\n",
       "      <th>min</th>\n",
       "      <td>0.000000</td>\n",
       "      <td>0.000000</td>\n",
       "      <td>0.000000</td>\n",
       "      <td>0.000000</td>\n",
       "      <td>0.000000</td>\n",
       "      <td>0.000000</td>\n",
       "      <td>0.000000</td>\n",
       "      <td>0.000000</td>\n",
       "    </tr>\n",
       "    <tr>\n",
       "      <th>25%</th>\n",
       "      <td>16.837500</td>\n",
       "      <td>1.000000</td>\n",
       "      <td>0.000000</td>\n",
       "      <td>0.000000</td>\n",
       "      <td>0.000000</td>\n",
       "      <td>0.000000</td>\n",
       "      <td>0.000000</td>\n",
       "      <td>15.000000</td>\n",
       "    </tr>\n",
       "    <tr>\n",
       "      <th>50%</th>\n",
       "      <td>60.000000</td>\n",
       "      <td>3.000000</td>\n",
       "      <td>0.000000</td>\n",
       "      <td>0.000000</td>\n",
       "      <td>0.000000</td>\n",
       "      <td>0.000000</td>\n",
       "      <td>0.000000</td>\n",
       "      <td>40.000000</td>\n",
       "    </tr>\n",
       "    <tr>\n",
       "      <th>75%</th>\n",
       "      <td>388.125000</td>\n",
       "      <td>6.000000</td>\n",
       "      <td>470.116200</td>\n",
       "      <td>570.095213</td>\n",
       "      <td>605.769975</td>\n",
       "      <td>669.808766</td>\n",
       "      <td>708.134037</td>\n",
       "      <td>40.000000</td>\n",
       "    </tr>\n",
       "    <tr>\n",
       "      <th>max</th>\n",
       "      <td>4760.000000</td>\n",
       "      <td>7.000000</td>\n",
       "      <td>27586.200000</td>\n",
       "      <td>28127.000000</td>\n",
       "      <td>30539.000000</td>\n",
       "      <td>30015.000000</td>\n",
       "      <td>35116.000000</td>\n",
       "      <td>91.000000</td>\n",
       "    </tr>\n",
       "  </tbody>\n",
       "</table>\n",
       "</div>"
      ],
      "text/plain": [
       "       capacity_mw  primary_fuel  generation_gwh_2013  generation_gwh_2014  \\\n",
       "count   908.000000    908.000000           908.000000           908.000000   \n",
       "mean    321.046378      3.205947           974.403892          1068.918194   \n",
       "std     580.221767      2.281339          2716.222621          2924.098882   \n",
       "min       0.000000      0.000000             0.000000             0.000000   \n",
       "25%      16.837500      1.000000             0.000000             0.000000   \n",
       "50%      60.000000      3.000000             0.000000             0.000000   \n",
       "75%     388.125000      6.000000           470.116200           570.095213   \n",
       "max    4760.000000      7.000000         27586.200000         28127.000000   \n",
       "\n",
       "       generation_gwh_2015  generation_gwh_2016  generation_gwh_2017  \\\n",
       "count           908.000000           908.000000           908.000000   \n",
       "mean           1129.934756          1181.024405          1235.206195   \n",
       "std            3103.712012          3129.230619          3185.504866   \n",
       "min               0.000000             0.000000             0.000000   \n",
       "25%               0.000000             0.000000             0.000000   \n",
       "50%               0.000000             0.000000             0.000000   \n",
       "75%             605.769975           669.808766           708.134037   \n",
       "max           30539.000000         30015.000000         35116.000000   \n",
       "\n",
       "       Power_plant_Years  \n",
       "count         908.000000  \n",
       "mean           29.023128  \n",
       "std            15.989954  \n",
       "min             0.000000  \n",
       "25%            15.000000  \n",
       "50%            40.000000  \n",
       "75%            40.000000  \n",
       "max            91.000000  "
      ]
     },
     "execution_count": 40,
     "metadata": {},
     "output_type": "execute_result"
    }
   ],
   "source": [
    "#lets have a look on data description\n",
    "df.describe()"
   ]
  },
  {
   "cell_type": "code",
   "execution_count": 41,
   "metadata": {},
   "outputs": [],
   "source": [
    "\n",
    "#As generation_gwh_2016 and generation_gwh_2017 are strongly correlated 0.98, we will drop generation_gwh_2016 column\n",
    "df.drop(columns = \"generation_gwh_2016\", inplace = True)"
   ]
  },
  {
   "cell_type": "code",
   "execution_count": 42,
   "metadata": {},
   "outputs": [
    {
     "data": {
      "text/plain": [
       "capacity_mw            3.193257\n",
       "primary_fuel           0.471141\n",
       "generation_gwh_2013    5.158053\n",
       "generation_gwh_2014    4.989441\n",
       "generation_gwh_2015    5.264211\n",
       "generation_gwh_2017    4.983065\n",
       "Power_plant_Years     -0.173106\n",
       "dtype: float64"
      ]
     },
     "execution_count": 42,
     "metadata": {},
     "output_type": "execute_result"
    }
   ],
   "source": [
    "#check skewness of data\n",
    "df.skew()"
   ]
  },
  {
   "cell_type": "code",
   "execution_count": 43,
   "metadata": {},
   "outputs": [
    {
     "data": {
      "image/png": "[encoded data removed]",
      "text/plain": [
       "<Figure size 1800x1440 with 6 Axes>"
      ]
     },
     "metadata": {},
     "output_type": "display_data"
    }
   ],
   "source": [
    "\n",
    "#Lets have a look on distribution of continuous parameters\n",
    "plt.figure(figsize = (25,20))\n",
    "plotnumber = 1\n",
    "col = [\"capacity_mw\",\"Power_plant_Years\",\"generation_gwh_2013\",\"generation_gwh_2014\",\"generation_gwh_2015\",\"generation_gwh_2017\"]\n",
    "for column in col:\n",
    "    if plotnumber <=7:\n",
    "        ax = plt.subplot(3,3,plotnumber)\n",
    "        sns.distplot(df[column], bins=30)\n",
    "        plt.xlabel(column,fontsize = 20)\n",
    "    plotnumber+=1\n",
    "plt.tight_layout()"
   ]
  },
  {
   "cell_type": "code",
   "execution_count": 44,
   "metadata": {},
   "outputs": [],
   "source": [
    "# At first we will remove outliers from our data. thereafter again will check skewness\n",
    "# Applying zscore method for removing outliers from skewed features\n",
    "from scipy import stats\n",
    "from scipy.stats import zscore\n",
    "z_score = zscore(df[[\"Power_plant_Years\",\"generation_gwh_2013\",\"generation_gwh_2014\",\"generation_gwh_2015\",\"generation_gwh_2017\"]])\n",
    "abs_z_score = np.abs(z_score)\n",
    "filtering_entry = (abs_z_score < 3).all(axis = 1)\n",
    "df = df[filtering_entry]\n",
    "df.reset_index(inplace = True)"
   ]
  },
  {
   "cell_type": "code",
   "execution_count": 45,
   "metadata": {},
   "outputs": [
    {
     "data": {
      "text/plain": [
       "(886, 10)"
      ]
     },
     "execution_count": 45,
     "metadata": {},
     "output_type": "execute_result"
    }
   ],
   "source": [
    "#check the shape after removing outliers\n",
    "df.shape"
   ]
  },
  {
   "cell_type": "markdown",
   "metadata": {},
   "source": [
    "By removing outliers we are loosing only 3% of data, hence we are removing outliers for better results.\n"
   ]
  },
  {
   "cell_type": "code",
   "execution_count": 46,
   "metadata": {},
   "outputs": [],
   "source": [
    "#remove index column\n",
    "df.drop(columns = \"index\", inplace = True)"
   ]
  },
  {
   "cell_type": "code",
   "execution_count": 47,
   "metadata": {},
   "outputs": [
    {
     "data": {
      "text/plain": [
       "capacity_mw            2.193908\n",
       "primary_fuel           0.435961\n",
       "generation_gwh_2013    2.957048\n",
       "generation_gwh_2014    2.822137\n",
       "generation_gwh_2015    2.633078\n",
       "generation_gwh_2017    2.473566\n",
       "Power_plant_Years     -0.324230\n",
       "dtype: float64"
      ]
     },
     "execution_count": 47,
     "metadata": {},
     "output_type": "execute_result"
    }
   ],
   "source": [
    "#lets check the skewness again\n",
    "df.skew()"
   ]
  },
  {
   "cell_type": "code",
   "execution_count": 48,
   "metadata": {},
   "outputs": [],
   "source": [
    "#lets convert categorical data into numeric values, using label encoder\n",
    "leb_enc = LabelEncoder()\n",
    "for i in df.columns:\n",
    "    if df[i].dtypes == \"object\":\n",
    "        df[i] = leb_enc.fit_transform(df[i])"
   ]
  },
  {
   "cell_type": "markdown",
   "metadata": {},
   "source": [
    "# 1. Prediction for capacity_mw¶\n",
    "\n",
    "->First we will go for capacity_mw prediction & this target variable is of continuous type so its a regression problem.\n",
    "\n",
    "->We will seperate data into lable and features and will remove skewness from features"
   ]
  },
  {
   "cell_type": "code",
   "execution_count": 49,
   "metadata": {},
   "outputs": [],
   "source": [
    "\n",
    "# first we need to saperate our data intp label and features\n",
    "x = df.drop(columns = [\"capacity_mw\"])\n",
    "y = df[\"capacity_mw\"]"
   ]
  },
  {
   "cell_type": "code",
   "execution_count": 50,
   "metadata": {},
   "outputs": [],
   "source": [
    "#still we are having skewness in our data, lets treat it using log transformation \n",
    "for index in x.skew().index:\n",
    "    if x.skew().loc[index]>0.5:\n",
    "        x[index]=np.log1p(x[index])\n",
    "        if x.skew().loc[index]<-0.5:\n",
    "            x[index]=np.square(x[index])"
   ]
  },
  {
   "cell_type": "code",
   "execution_count": 51,
   "metadata": {},
   "outputs": [
    {
     "data": {
      "text/plain": [
       "primary_fuel           0.435961\n",
       "source                 0.832924\n",
       "geolocation_source    -2.120233\n",
       "generation_gwh_2013    0.678189\n",
       "generation_gwh_2014    0.635605\n",
       "generation_gwh_2015    0.568960\n",
       "generation_gwh_2017    0.502695\n",
       "Power_plant_Years     -0.324230\n",
       "dtype: float64"
      ]
     },
     "execution_count": 51,
     "metadata": {},
     "output_type": "execute_result"
    }
   ],
   "source": [
    "#Lets check skewness in features\n",
    "x.skew()"
   ]
  },
  {
   "cell_type": "code",
   "execution_count": 54,
   "metadata": {},
   "outputs": [],
   "source": [
    "\n",
    "#seperating numerical data for applying standard scalar and bring all features to common scale\n",
    "num_data = x.drop(columns = [\"primary_fuel\",\"source\",\"geolocation_source\"])\n",
    "scaler = StandardScaler()\n",
    "x_num = scaler.fit_transform(num_data)\n",
    "x_num = pd.DataFrame(x_num,columns = num_data.columns)"
   ]
  },
  {
   "cell_type": "code",
   "execution_count": 55,
   "metadata": {},
   "outputs": [],
   "source": [
    "cat_data = pd.DataFrame(x,columns = [\"primary_fuel\",\"source\",\"geolocation_source\"])"
   ]
  },
  {
   "cell_type": "code",
   "execution_count": 56,
   "metadata": {},
   "outputs": [
    {
     "data": {
      "text/html": [
       "<div>\n",
       "<style scoped>\n",
       "    .dataframe tbody tr th:only-of-type {\n",
       "        vertical-align: middle;\n",
       "    }\n",
       "\n",
       "    .dataframe tbody tr th {\n",
       "        vertical-align: top;\n",
       "    }\n",
       "\n",
       "    .dataframe thead th {\n",
       "        text-align: right;\n",
       "    }\n",
       "</style>\n",
       "<table border=\"1\" class=\"dataframe\">\n",
       "  <thead>\n",
       "    <tr style=\"text-align: right;\">\n",
       "      <th></th>\n",
       "      <th>generation_gwh_2013</th>\n",
       "      <th>generation_gwh_2014</th>\n",
       "      <th>generation_gwh_2015</th>\n",
       "      <th>generation_gwh_2017</th>\n",
       "      <th>Power_plant_Years</th>\n",
       "      <th>primary_fuel</th>\n",
       "      <th>source</th>\n",
       "      <th>geolocation_source</th>\n",
       "    </tr>\n",
       "  </thead>\n",
       "  <tbody>\n",
       "    <tr>\n",
       "      <th>0</th>\n",
       "      <td>-0.760569</td>\n",
       "      <td>-0.776871</td>\n",
       "      <td>-0.811969</td>\n",
       "      <td>-0.838435</td>\n",
       "      <td>-1.405809</td>\n",
       "      <td>6</td>\n",
       "      <td>4.700480</td>\n",
       "      <td>1</td>\n",
       "    </tr>\n",
       "    <tr>\n",
       "      <th>1</th>\n",
       "      <td>-0.760569</td>\n",
       "      <td>-0.776871</td>\n",
       "      <td>-0.811969</td>\n",
       "      <td>-0.838435</td>\n",
       "      <td>0.693963</td>\n",
       "      <td>1</td>\n",
       "      <td>5.164786</td>\n",
       "      <td>2</td>\n",
       "    </tr>\n",
       "    <tr>\n",
       "      <th>2</th>\n",
       "      <td>-0.760569</td>\n",
       "      <td>-0.776871</td>\n",
       "      <td>-0.811969</td>\n",
       "      <td>-0.838435</td>\n",
       "      <td>0.693963</td>\n",
       "      <td>7</td>\n",
       "      <td>3.091042</td>\n",
       "      <td>2</td>\n",
       "    </tr>\n",
       "    <tr>\n",
       "      <th>3</th>\n",
       "      <td>1.158812</td>\n",
       "      <td>1.109933</td>\n",
       "      <td>1.160691</td>\n",
       "      <td>1.028022</td>\n",
       "      <td>-0.960403</td>\n",
       "      <td>2</td>\n",
       "      <td>3.135494</td>\n",
       "      <td>2</td>\n",
       "    </tr>\n",
       "    <tr>\n",
       "      <th>4</th>\n",
       "      <td>1.447468</td>\n",
       "      <td>1.576871</td>\n",
       "      <td>1.730506</td>\n",
       "      <td>1.628848</td>\n",
       "      <td>-1.660327</td>\n",
       "      <td>1</td>\n",
       "      <td>3.135494</td>\n",
       "      <td>2</td>\n",
       "    </tr>\n",
       "    <tr>\n",
       "      <th>...</th>\n",
       "      <td>...</td>\n",
       "      <td>...</td>\n",
       "      <td>...</td>\n",
       "      <td>...</td>\n",
       "      <td>...</td>\n",
       "      <td>...</td>\n",
       "      <td>...</td>\n",
       "      <td>...</td>\n",
       "    </tr>\n",
       "    <tr>\n",
       "      <th>881</th>\n",
       "      <td>-0.760569</td>\n",
       "      <td>-0.776871</td>\n",
       "      <td>-0.609821</td>\n",
       "      <td>1.104093</td>\n",
       "      <td>-1.723956</td>\n",
       "      <td>1</td>\n",
       "      <td>3.135494</td>\n",
       "      <td>2</td>\n",
       "    </tr>\n",
       "    <tr>\n",
       "      <th>882</th>\n",
       "      <td>-0.760569</td>\n",
       "      <td>-0.776871</td>\n",
       "      <td>-0.811969</td>\n",
       "      <td>-0.838435</td>\n",
       "      <td>0.693963</td>\n",
       "      <td>6</td>\n",
       "      <td>4.356709</td>\n",
       "      <td>0</td>\n",
       "    </tr>\n",
       "    <tr>\n",
       "      <th>883</th>\n",
       "      <td>-0.760569</td>\n",
       "      <td>-0.776871</td>\n",
       "      <td>-0.811969</td>\n",
       "      <td>-0.838435</td>\n",
       "      <td>0.693963</td>\n",
       "      <td>7</td>\n",
       "      <td>3.091042</td>\n",
       "      <td>2</td>\n",
       "    </tr>\n",
       "    <tr>\n",
       "      <th>884</th>\n",
       "      <td>-0.760569</td>\n",
       "      <td>-0.776871</td>\n",
       "      <td>-0.811969</td>\n",
       "      <td>-0.838435</td>\n",
       "      <td>0.693963</td>\n",
       "      <td>1</td>\n",
       "      <td>4.094345</td>\n",
       "      <td>2</td>\n",
       "    </tr>\n",
       "    <tr>\n",
       "      <th>885</th>\n",
       "      <td>-0.760569</td>\n",
       "      <td>-0.776871</td>\n",
       "      <td>-0.811969</td>\n",
       "      <td>-0.838435</td>\n",
       "      <td>0.693963</td>\n",
       "      <td>7</td>\n",
       "      <td>3.091042</td>\n",
       "      <td>2</td>\n",
       "    </tr>\n",
       "  </tbody>\n",
       "</table>\n",
       "<p>886 rows × 8 columns</p>\n",
       "</div>"
      ],
      "text/plain": [
       "     generation_gwh_2013  generation_gwh_2014  generation_gwh_2015  \\\n",
       "0              -0.760569            -0.776871            -0.811969   \n",
       "1              -0.760569            -0.776871            -0.811969   \n",
       "2              -0.760569            -0.776871            -0.811969   \n",
       "3               1.158812             1.109933             1.160691   \n",
       "4               1.447468             1.576871             1.730506   \n",
       "..                   ...                  ...                  ...   \n",
       "881            -0.760569            -0.776871            -0.609821   \n",
       "882            -0.760569            -0.776871            -0.811969   \n",
       "883            -0.760569            -0.776871            -0.811969   \n",
       "884            -0.760569            -0.776871            -0.811969   \n",
       "885            -0.760569            -0.776871            -0.811969   \n",
       "\n",
       "     generation_gwh_2017  Power_plant_Years  primary_fuel    source  \\\n",
       "0              -0.838435          -1.405809             6  4.700480   \n",
       "1              -0.838435           0.693963             1  5.164786   \n",
       "2              -0.838435           0.693963             7  3.091042   \n",
       "3               1.028022          -0.960403             2  3.135494   \n",
       "4               1.628848          -1.660327             1  3.135494   \n",
       "..                   ...                ...           ...       ...   \n",
       "881             1.104093          -1.723956             1  3.135494   \n",
       "882            -0.838435           0.693963             6  4.356709   \n",
       "883            -0.838435           0.693963             7  3.091042   \n",
       "884            -0.838435           0.693963             1  4.094345   \n",
       "885            -0.838435           0.693963             7  3.091042   \n",
       "\n",
       "     geolocation_source  \n",
       "0                     1  \n",
       "1                     2  \n",
       "2                     2  \n",
       "3                     2  \n",
       "4                     2  \n",
       "..                  ...  \n",
       "881                   2  \n",
       "882                   0  \n",
       "883                   2  \n",
       "884                   2  \n",
       "885                   2  \n",
       "\n",
       "[886 rows x 8 columns]"
      ]
     },
     "execution_count": 56,
     "metadata": {},
     "output_type": "execute_result"
    }
   ],
   "source": [
    "\n",
    "#Lets join both categorical data and numerical data of our features\n",
    "X = x_num.join(cat_data)\n",
    "X"
   ]
  },
  {
   "cell_type": "markdown",
   "metadata": {},
   "source": [
    "# Finding best random_state"
   ]
  },
  {
   "cell_type": "code",
   "execution_count": 57,
   "metadata": {},
   "outputs": [
    {
     "name": "stdout",
     "output_type": "stream",
     "text": [
      "Best accuracy is 0.8694927610809549 on Random State 13\n"
     ]
    }
   ],
   "source": [
    "#Lets find best random state using RandomForestRegressor\n",
    "from sklearn.model_selection import train_test_split, GridSearchCV\n",
    "from sklearn.metrics import mean_absolute_error\n",
    "from sklearn.metrics import mean_squared_error\n",
    "from sklearn.metrics import r2_score\n",
    "from sklearn.ensemble import RandomForestRegressor\n",
    "max_accu = 0\n",
    "max_rs = 0\n",
    "for i in range(1,100):\n",
    "    x_train,x_test,y_train,y_test = train_test_split(x,y,test_size = 0.25, random_state = i)\n",
    "    rf = RandomForestRegressor()\n",
    "    rf.fit(x_train,y_train)\n",
    "    pred = rf.predict(x_test)\n",
    "    acc = r2_score(y_test,pred)\n",
    "    if acc > max_accu:\n",
    "        max_accu = acc\n",
    "        max_rs = i\n",
    "print(\"Best accuracy is\",max_accu,\"on Random State\",max_rs)"
   ]
  },
  {
   "cell_type": "code",
   "execution_count": 58,
   "metadata": {},
   "outputs": [],
   "source": [
    "#lets split our train data into train and test part\n",
    "x_train, x_test, y_train, y_test = train_test_split(x, y,test_size = 0.25,random_state = max_rs)"
   ]
  },
  {
   "cell_type": "code",
   "execution_count": 59,
   "metadata": {},
   "outputs": [
    {
     "name": "stdout",
     "output_type": "stream",
     "text": [
      "MAE : 187.26677369046584\n",
      "RMSE : 288.0024396693881\n",
      "Training r2 Score : 54.22119220872963 %\n",
      "Testing r2 Score: 55.215804727137765%\n"
     ]
    }
   ],
   "source": [
    "#Model with LinearRegression\n",
    "from sklearn.linear_model import LinearRegression\n",
    "lr = LinearRegression()\n",
    "lr.fit(x_train, y_train)\n",
    "y_pred = lr.predict(x_train)\n",
    "pred_lr = lr.predict(x_test)\n",
    "\n",
    "#evaluation\n",
    "mse = mean_squared_error(y_test,pred_lr)\n",
    "rmse = np.sqrt(mse)\n",
    "mae = mean_absolute_error(y_test,pred_lr)\n",
    "print(\"MAE :\", mae)\n",
    "print(\"RMSE :\", rmse)\n",
    "\n",
    "# r2 score\n",
    "print(\"Training r2 Score :\", r2_score(y_train,y_pred)*100,'%')\n",
    "print(f\"Testing r2 Score: {r2_score(y_test,pred_lr)*100}%\")"
   ]
  },
  {
   "cell_type": "code",
   "execution_count": 60,
   "metadata": {},
   "outputs": [
    {
     "name": "stdout",
     "output_type": "stream",
     "text": [
      "MAE : 96.23271937144517\n",
      "RMSE : 224.47422579230175\n",
      "Training r2 Score : 99.83608984448551 %\n",
      "Testing r2 Score: 72.79395537149556%\n"
     ]
    }
   ],
   "source": [
    "#Model with DecesionTreeRegressor\n",
    "from sklearn.tree import DecisionTreeRegressor\n",
    "dt = DecisionTreeRegressor()\n",
    "dt.fit(x_train, y_train)\n",
    "y_pred = dt.predict(x_train)\n",
    "pred_dt = dt.predict(x_test)\n",
    "\n",
    "#evaluation\n",
    "mse = mean_squared_error(y_test,pred_dt)\n",
    "rmse = np.sqrt(mse)\n",
    "mae = mean_absolute_error(y_test,pred_dt)\n",
    "print(\"MAE :\", mae)\n",
    "print(\"RMSE :\", rmse)\n",
    "\n",
    "# r2 score\n",
    "print(\"Training r2 Score :\", r2_score(y_train,y_pred)*100,'%')\n",
    "print(f\"Testing r2 Score: {r2_score(y_test,pred_dt)*100}%\")"
   ]
  },
  {
   "cell_type": "code",
   "execution_count": 61,
   "metadata": {},
   "outputs": [
    {
     "name": "stdout",
     "output_type": "stream",
     "text": [
      "MAE : 82.28244067803976\n",
      "RMSE : 160.62076846304305\n",
      "Training r2 Score : 95.97301753840375 %\n",
      "Testing r2 Score: 86.07048997694895%\n"
     ]
    }
   ],
   "source": [
    "#Model with RandomForestRegressor\n",
    "from sklearn.ensemble import RandomForestRegressor\n",
    "\n",
    "rf = RandomForestRegressor()\n",
    "rf.fit(x_train, y_train)\n",
    "y_pred = rf.predict(x_train)\n",
    "pred_rf = rf.predict(x_test)\n",
    "\n",
    "# evaluation\n",
    "mse = mean_squared_error(y_test,pred_rf)\n",
    "rmse = np.sqrt(mse)\n",
    "mae = mean_absolute_error(y_test,pred_rf)\n",
    "print(\"MAE :\", mae)\n",
    "print(\"RMSE :\", rmse)\n",
    "\n",
    "\n",
    "# r2 score\n",
    "print(\"Training r2 Score :\", r2_score(y_train,y_pred)*100,'%')\n",
    "print(f\"Testing r2 Score: {r2_score(y_test,pred_rf)*100}%\")"
   ]
  },
  {
   "cell_type": "code",
   "execution_count": 62,
   "metadata": {},
   "outputs": [
    {
     "name": "stdout",
     "output_type": "stream",
     "text": [
      "MAE : 109.59275225225225\n",
      "RMSE : 218.54444514596736\n",
      "Training r2 Score : 76.3601101939248 %\n",
      "Testing r2 Score: 74.21233700692788%\n"
     ]
    }
   ],
   "source": [
    "\n",
    "#Model with KNeighborsRegressor\n",
    "from sklearn.neighbors import KNeighborsRegressor\n",
    "knr =  KNeighborsRegressor()\n",
    "knr.fit(x_train, y_train)\n",
    "y_pred = knr.predict(x_train)\n",
    "pred_knr = knr.predict(x_test)\n",
    "\n",
    "# evaluation\n",
    "mse = mean_squared_error(y_test,pred_knr)\n",
    "rmse = np.sqrt(mse)\n",
    "mae = mean_absolute_error(y_test,pred_knr)\n",
    "print(\"MAE :\", mae)\n",
    "print(\"RMSE :\", rmse)\n",
    "\n",
    "# r2 score\n",
    "print(\"Training r2 Score :\", r2_score(y_train,y_pred)*100,'%')\n",
    "print(f\"Testing r2 Score: {r2_score(y_test,pred_knr)*100}%\")"
   ]
  },
  {
   "cell_type": "code",
   "execution_count": 63,
   "metadata": {},
   "outputs": [
    {
     "name": "stdout",
     "output_type": "stream",
     "text": [
      "MAE : 109.59275225225225\n",
      "RMSE : 218.54444514596736\n",
      "Training r2 Score : 76.3601101939248 %\n",
      "Testing r2 Score: 74.21233700692788%\n"
     ]
    }
   ],
   "source": [
    "\n",
    "#Lets use SVM regressor\n",
    "from sklearn.svm import SVR\n",
    "svr =  KNeighborsRegressor()\n",
    "svr.fit(x_train, y_train)\n",
    "y_pred = svr.predict(x_train)\n",
    "pred_svr = svr.predict(x_test)\n",
    "\n",
    "# evaluation\n",
    "mse = mean_squared_error(y_test,pred_svr)\n",
    "rmse = np.sqrt(mse)\n",
    "mae = mean_absolute_error(y_test,pred_svr)\n",
    "print(\"MAE :\", mae)\n",
    "print(\"RMSE :\", rmse)\n",
    "\n",
    "# r2 score\n",
    "print(\"Training r2 Score :\", r2_score(y_train,y_pred)*100,'%')\n",
    "print(f\"Testing r2 Score: {r2_score(y_test,pred_svr)*100}%\")"
   ]
  },
  {
   "cell_type": "code",
   "execution_count": 64,
   "metadata": {},
   "outputs": [
    {
     "name": "stdout",
     "output_type": "stream",
     "text": [
      "MAE : 85.87499730956446\n",
      "RMSE : 181.7311400808903\n",
      "Training r2 Score : 99.78698732330943 %\n",
      "Testing r2 Score: 82.16836591281002%\n"
     ]
    }
   ],
   "source": [
    "\n",
    "#lets check with XGBRegressor model\n",
    "from xgboost import XGBRegressor\n",
    "xgb = XGBRegressor()\n",
    "xgb.fit(x_train,y_train)\n",
    "y_pred = xgb.predict(x_train)\n",
    "pred_xgb = xgb.predict(x_test)\n",
    "\n",
    "# evaluation\n",
    "mse = mean_squared_error(y_test,pred_xgb)\n",
    "rmse = np.sqrt(mse)\n",
    "mae = mean_absolute_error(y_test,pred_xgb)\n",
    "print(\"MAE :\", mae)\n",
    "print(\"RMSE :\", rmse)\n",
    "\n",
    "# r2 score\n",
    "print(\"Training r2 Score :\", r2_score(y_train,y_pred)*100,'%')\n",
    "print(f\"Testing r2 Score: {r2_score(y_test,pred_xgb)*100}%\")"
   ]
  },
  {
   "cell_type": "markdown",
   "metadata": {},
   "source": [
    "# Cross validation"
   ]
  },
  {
   "cell_type": "code",
   "execution_count": 65,
   "metadata": {},
   "outputs": [
    {
     "name": "stdout",
     "output_type": "stream",
     "text": [
      "Cross validation score of LinearRegression model is : 0.5269003965202372\n"
     ]
    }
   ],
   "source": [
    "#Let's check cross validation score for all algorithms\n",
    "#for LinearRegression\n",
    "from sklearn.model_selection import KFold, cross_val_score\n",
    "from statistics import mean\n",
    "scores = []\n",
    "cv = KFold(n_splits=4, random_state=max_rs, shuffle=True)\n",
    "for train_index, test_index in cv.split(X):\n",
    "    X_train, X_test, y_train, y_test = X.iloc[train_index], X.iloc[test_index], y.iloc[train_index], y.iloc[test_index]\n",
    "    lr.fit(X_train,y_train)\n",
    "    y_pred = lr.predict(X_test)\n",
    "    scores.append(r2_score(y_test, y_pred))  \n",
    "print(\"Cross validation score of LinearRegression model is :\", mean(scores))"
   ]
  },
  {
   "cell_type": "code",
   "execution_count": 66,
   "metadata": {},
   "outputs": [
    {
     "name": "stdout",
     "output_type": "stream",
     "text": [
      "Cross validation score of DecisionTreeRegressor model is : 0.5725825130685599\n"
     ]
    }
   ],
   "source": [
    "#for DecisionTreeRegressor\n",
    "scores = []\n",
    "cv = KFold(n_splits=4, random_state=max_rs, shuffle=True)\n",
    "for train_index, test_index in cv.split(X):\n",
    "    X_train, X_test, y_train, y_test = X.iloc[train_index], X.iloc[test_index], y.iloc[train_index], y.iloc[test_index]\n",
    "    dt.fit(X_train,y_train)\n",
    "    pred_dtr = dt.predict(X_test)\n",
    "    scores.append(r2_score(y_test, pred_dtr))  \n",
    "print(\"Cross validation score of DecisionTreeRegressor model is :\", mean(scores))"
   ]
  },
  {
   "cell_type": "code",
   "execution_count": 67,
   "metadata": {},
   "outputs": [
    {
     "name": "stdout",
     "output_type": "stream",
     "text": [
      "Cross validation score of RandomForestRegressor model is : 0.8671441125691973\n"
     ]
    }
   ],
   "source": [
    "#for RandomForestRegressor\n",
    "scores = []\n",
    "cv = KFold(n_splits=4, random_state=max_rs, shuffle=True)\n",
    "for train_index, test_index in cv.split(X):\n",
    "    X_train, X_test, y_train, y_test = X.iloc[train_index], X.iloc[test_index], y.iloc[train_index], y.iloc[test_index]\n",
    "    rf.fit(X_train,y_train)\n",
    "    rfr_pred = dt.predict(X_test)\n",
    "    scores.append(r2_score(y_test, rfr_pred))  \n",
    "print(\"Cross validation score of RandomForestRegressor model is :\", mean(scores))"
   ]
  },
  {
   "cell_type": "code",
   "execution_count": 68,
   "metadata": {},
   "outputs": [
    {
     "name": "stdout",
     "output_type": "stream",
     "text": [
      "Cross validation score of KNeighborsRegressor model is : 0.8671441125691973\n"
     ]
    }
   ],
   "source": [
    "#for KNeighborsRegressor\n",
    "scores = []\n",
    "cv = KFold(n_splits=4, random_state=max_rs, shuffle=True)\n",
    "for train_index, test_index in cv.split(X):\n",
    "    X_train, X_test, y_train, y_test = X.iloc[train_index], X.iloc[test_index], y.iloc[train_index], y.iloc[test_index]\n",
    "    knr.fit(X_train,y_train)\n",
    "    knr_pred = dt.predict(X_test)\n",
    "    scores.append(r2_score(y_test, knr_pred))  \n",
    "print(\"Cross validation score of KNeighborsRegressor model is :\", mean(scores))"
   ]
  },
  {
   "cell_type": "code",
   "execution_count": 69,
   "metadata": {},
   "outputs": [
    {
     "name": "stdout",
     "output_type": "stream",
     "text": [
      "Cross validation score of SVM model is : 0.8671441125691973\n"
     ]
    }
   ],
   "source": [
    "\n",
    "#for SVM\n",
    "scores = []\n",
    "cv = KFold(n_splits=4, random_state=max_rs, shuffle=True)\n",
    "for train_index, test_index in cv.split(X):\n",
    "    X_train, X_test, y_train, y_test = X.iloc[train_index], X.iloc[test_index], y.iloc[train_index], y.iloc[test_index]\n",
    "    svr.fit(X_train,y_train)\n",
    "    svr_pred = dt.predict(X_test)\n",
    "    scores.append(r2_score(y_test, svr_pred))  \n",
    "print(\"Cross validation score of SVM model is :\", mean(scores))"
   ]
  },
  {
   "cell_type": "code",
   "execution_count": 70,
   "metadata": {},
   "outputs": [
    {
     "name": "stdout",
     "output_type": "stream",
     "text": [
      "Cross validation score of XGBRegressor model is : 0.8671441125691973\n"
     ]
    }
   ],
   "source": [
    "#for XGBRegressor\n",
    "scores = []\n",
    "cv = KFold(n_splits=4, random_state=max_rs, shuffle=True)\n",
    "for train_index, test_index in cv.split(X):\n",
    "    X_train, X_test, y_train, y_test = X.iloc[train_index], X.iloc[test_index], y.iloc[train_index], y.iloc[test_index]\n",
    "    xgb.fit(X_train,y_train)\n",
    "    xgb_pred = dt.predict(X_test)\n",
    "    scores.append(r2_score(y_test, xgb_pred))  \n",
    "print(\"Cross validation score of XGBRegressor model is :\", mean(scores))\n"
   ]
  },
  {
   "cell_type": "markdown",
   "metadata": {},
   "source": [
    "->From above observations we can say the RandomForestRegressor is giving least difference among all algorithms. So we will choose this algorithm for hyperparameter tuning."
   ]
  },
  {
   "cell_type": "markdown",
   "metadata": {},
   "source": [
    "# Hyperparameter Tuning"
   ]
  },
  {
   "cell_type": "code",
   "execution_count": 71,
   "metadata": {},
   "outputs": [],
   "source": [
    "#lets select different parameters\n",
    "grid_params = {\n",
    "                'max_depth': [10,15,20],\n",
    "                'n_estimators':[700,900,1000],\n",
    "                'min_samples_leaf': [1],\n",
    "                'max_features':['auto'],\n",
    "                'bootstrap': [True, False],\n",
    "                }"
   ]
  },
  {
   "cell_type": "code",
   "execution_count": 72,
   "metadata": {},
   "outputs": [
    {
     "data": {
      "text/plain": [
       "GridSearchCV(cv=5, estimator=RandomForestRegressor(),\n",
       "             param_grid={'bootstrap': [True, False], 'max_depth': [10, 15, 20],\n",
       "                         'max_features': ['auto'], 'min_samples_leaf': [1],\n",
       "                         'n_estimators': [700, 900, 1000]})"
      ]
     },
     "execution_count": 72,
     "metadata": {},
     "output_type": "execute_result"
    }
   ],
   "source": [
    "\n",
    "#train our model using GridSearchCV with given parameters to check best parameters\n",
    "x_train, x_test, y_train, y_test = train_test_split(X, y,test_size = 0.25,random_state = max_rs)\n",
    "GCV =  GridSearchCV(RandomForestRegressor(), grid_params, cv = 5)\n",
    "GCV.fit(x_train,y_train)"
   ]
  },
  {
   "cell_type": "code",
   "execution_count": 73,
   "metadata": {},
   "outputs": [
    {
     "data": {
      "text/plain": [
       "{'bootstrap': True,\n",
       " 'max_depth': 20,\n",
       " 'max_features': 'auto',\n",
       " 'min_samples_leaf': 1,\n",
       " 'n_estimators': 900}"
      ]
     },
     "execution_count": 73,
     "metadata": {},
     "output_type": "execute_result"
    }
   ],
   "source": [
    "GCV.best_params_       #printing the best parameters found by GridSearchCV"
   ]
  },
  {
   "cell_type": "code",
   "execution_count": 74,
   "metadata": {},
   "outputs": [
    {
     "name": "stdout",
     "output_type": "stream",
     "text": [
      "MAE : 79.95265612627922\n",
      "RMSE : 155.22920791505987\n",
      "---------------------------------------------------\n",
      "r2 Score: 86.98993925668589%\n"
     ]
    }
   ],
   "source": [
    "#Let's train and test our model using best parameters\n",
    "\n",
    "model = RandomForestRegressor(max_depth=20, min_samples_leaf = 1, max_features= 'auto', n_estimators=900, bootstrap=True)\n",
    "\n",
    "model.fit(x_train,y_train)\n",
    "pred = model.predict(x_test)\n",
    "\n",
    "# evaluation\n",
    "mse = mean_squared_error(y_test, pred)\n",
    "rmse = np.sqrt(mse)\n",
    "mae = mean_absolute_error(y_test,pred)\n",
    "print(\"MAE :\", mae)\n",
    "print(\"RMSE :\", rmse)\n",
    "print(\"---------------------------------------------------\")\n",
    "\n",
    "print(f\"r2 Score: {r2_score(y_test,pred)*100}%\")"
   ]
  },
  {
   "cell_type": "markdown",
   "metadata": {},
   "source": [
    "->Great we get improved r2 score near to our overall accuracy after hyperparameter tuning for our final model.\n",
    "\n",
    "->The final accuracy is about 86.98% for predicting electricity generating capacity of plant."
   ]
  },
  {
   "cell_type": "markdown",
   "metadata": {},
   "source": [
    "# Saving the model"
   ]
  },
  {
   "cell_type": "code",
   "execution_count": 75,
   "metadata": {},
   "outputs": [
    {
     "data": {
      "text/plain": [
       "['Global_Power_Plant_capacity_prediction.pkl']"
      ]
     },
     "execution_count": 75,
     "metadata": {},
     "output_type": "execute_result"
    }
   ],
   "source": [
    "import joblib\n",
    "joblib.dump(model,\"Global_Power_Plant_capacity_prediction.pkl\")"
   ]
  },
  {
   "cell_type": "markdown",
   "metadata": {},
   "source": [
    "# 2. Prediction for Fuel_type"
   ]
  },
  {
   "cell_type": "code",
   "execution_count": 76,
   "metadata": {},
   "outputs": [],
   "source": [
    "#we will define column primary_fuel as Fuel_type for better understanding\n",
    "df.rename(columns={'primary_fuel':'Fuel_type'},inplace=True)"
   ]
  },
  {
   "cell_type": "code",
   "execution_count": 77,
   "metadata": {},
   "outputs": [],
   "source": [
    "#Lets seperate label and features\n",
    "df_x = df.drop(columns = \"Fuel_type\")\n",
    "df_y = df[\"Fuel_type\"]"
   ]
  },
  {
   "cell_type": "code",
   "execution_count": 78,
   "metadata": {},
   "outputs": [
    {
     "data": {
      "text/plain": [
       "3    247\n",
       "1    240\n",
       "6    127\n",
       "7    123\n",
       "2     69\n",
       "0     50\n",
       "5     21\n",
       "4      9\n",
       "Name: Fuel_type, dtype: int64"
      ]
     },
     "execution_count": 78,
     "metadata": {},
     "output_type": "execute_result"
    }
   ],
   "source": [
    "#lets check the value counts of the target variable\n",
    "df_y.value_counts()"
   ]
  },
  {
   "cell_type": "code",
   "execution_count": 79,
   "metadata": {},
   "outputs": [],
   "source": [
    "#lets do oversampling using SMOTE\n",
    "import imblearn\n",
    "from imblearn.over_sampling import SMOTE\n",
    "SM = SMOTE()\n",
    "x_over,y_over = SM.fit_resample(df_x,df_y)"
   ]
  },
  {
   "cell_type": "code",
   "execution_count": 80,
   "metadata": {},
   "outputs": [
    {
     "data": {
      "text/plain": [
       "7    247\n",
       "6    247\n",
       "5    247\n",
       "4    247\n",
       "3    247\n",
       "2    247\n",
       "1    247\n",
       "0    247\n",
       "Name: Fuel_type, dtype: int64"
      ]
     },
     "execution_count": 80,
     "metadata": {},
     "output_type": "execute_result"
    }
   ],
   "source": [
    "#Now check the target variable\n",
    "y_over.value_counts()\n",
    "#earlier in our target variable highest number was 247, so by oversampling it brings all the categories to that count"
   ]
  },
  {
   "cell_type": "code",
   "execution_count": 81,
   "metadata": {},
   "outputs": [],
   "source": [
    "#lets seperate numerical columns from features to bring at common scale using standard scaler\n",
    "n_data = x_over.drop(columns = [\"source\",\"geolocation_source\"])\n",
    "scaler = StandardScaler()\n",
    "num_x = scaler.fit_transform(n_data)\n",
    "num_x = pd.DataFrame(num_x,columns = n_data.columns)"
   ]
  },
  {
   "cell_type": "code",
   "execution_count": 82,
   "metadata": {},
   "outputs": [],
   "source": [
    "\n",
    "#create a dataframe with categorical data\n",
    "c_data = pd.DataFrame(x_over,columns = [\"source\",\"geolocation_source\"])"
   ]
  },
  {
   "cell_type": "code",
   "execution_count": 83,
   "metadata": {},
   "outputs": [
    {
     "data": {
      "text/html": [
       "<div>\n",
       "<style scoped>\n",
       "    .dataframe tbody tr th:only-of-type {\n",
       "        vertical-align: middle;\n",
       "    }\n",
       "\n",
       "    .dataframe tbody tr th {\n",
       "        vertical-align: top;\n",
       "    }\n",
       "\n",
       "    .dataframe thead th {\n",
       "        text-align: right;\n",
       "    }\n",
       "</style>\n",
       "<table border=\"1\" class=\"dataframe\">\n",
       "  <thead>\n",
       "    <tr style=\"text-align: right;\">\n",
       "      <th></th>\n",
       "      <th>capacity_mw</th>\n",
       "      <th>generation_gwh_2013</th>\n",
       "      <th>generation_gwh_2014</th>\n",
       "      <th>generation_gwh_2015</th>\n",
       "      <th>generation_gwh_2017</th>\n",
       "      <th>Power_plant_Years</th>\n",
       "      <th>source</th>\n",
       "      <th>geolocation_source</th>\n",
       "    </tr>\n",
       "  </thead>\n",
       "  <tbody>\n",
       "    <tr>\n",
       "      <th>0</th>\n",
       "      <td>-0.627095</td>\n",
       "      <td>-0.441518</td>\n",
       "      <td>-0.469688</td>\n",
       "      <td>-0.462669</td>\n",
       "      <td>-0.475284</td>\n",
       "      <td>-1.718728</td>\n",
       "      <td>109</td>\n",
       "      <td>1</td>\n",
       "    </tr>\n",
       "    <tr>\n",
       "      <th>1</th>\n",
       "      <td>-0.413272</td>\n",
       "      <td>-0.441518</td>\n",
       "      <td>-0.469688</td>\n",
       "      <td>-0.462669</td>\n",
       "      <td>-0.475284</td>\n",
       "      <td>0.739993</td>\n",
       "      <td>174</td>\n",
       "      <td>2</td>\n",
       "    </tr>\n",
       "    <tr>\n",
       "      <th>2</th>\n",
       "      <td>-0.544925</td>\n",
       "      <td>-0.441518</td>\n",
       "      <td>-0.469688</td>\n",
       "      <td>-0.462669</td>\n",
       "      <td>-0.475284</td>\n",
       "      <td>0.739993</td>\n",
       "      <td>21</td>\n",
       "      <td>2</td>\n",
       "    </tr>\n",
       "    <tr>\n",
       "      <th>3</th>\n",
       "      <td>-0.330430</td>\n",
       "      <td>-0.069747</td>\n",
       "      <td>-0.119493</td>\n",
       "      <td>-0.001119</td>\n",
       "      <td>-0.134651</td>\n",
       "      <td>-1.197181</td>\n",
       "      <td>22</td>\n",
       "      <td>2</td>\n",
       "    </tr>\n",
       "    <tr>\n",
       "      <th>4</th>\n",
       "      <td>3.397485</td>\n",
       "      <td>0.540191</td>\n",
       "      <td>1.251019</td>\n",
       "      <td>2.773732</td>\n",
       "      <td>2.288471</td>\n",
       "      <td>-2.016755</td>\n",
       "      <td>22</td>\n",
       "      <td>2</td>\n",
       "    </tr>\n",
       "    <tr>\n",
       "      <th>...</th>\n",
       "      <td>...</td>\n",
       "      <td>...</td>\n",
       "      <td>...</td>\n",
       "      <td>...</td>\n",
       "      <td>...</td>\n",
       "      <td>...</td>\n",
       "      <td>...</td>\n",
       "      <td>...</td>\n",
       "    </tr>\n",
       "    <tr>\n",
       "      <th>1971</th>\n",
       "      <td>-0.623513</td>\n",
       "      <td>-0.441518</td>\n",
       "      <td>-0.469688</td>\n",
       "      <td>-0.462669</td>\n",
       "      <td>-0.475284</td>\n",
       "      <td>0.739993</td>\n",
       "      <td>21</td>\n",
       "      <td>2</td>\n",
       "    </tr>\n",
       "    <tr>\n",
       "      <th>1972</th>\n",
       "      <td>-0.543458</td>\n",
       "      <td>-0.441518</td>\n",
       "      <td>-0.469688</td>\n",
       "      <td>-0.462669</td>\n",
       "      <td>-0.475284</td>\n",
       "      <td>0.739993</td>\n",
       "      <td>21</td>\n",
       "      <td>2</td>\n",
       "    </tr>\n",
       "    <tr>\n",
       "      <th>1973</th>\n",
       "      <td>-0.579475</td>\n",
       "      <td>-0.441518</td>\n",
       "      <td>-0.469688</td>\n",
       "      <td>-0.462669</td>\n",
       "      <td>-0.475284</td>\n",
       "      <td>0.739993</td>\n",
       "      <td>21</td>\n",
       "      <td>2</td>\n",
       "    </tr>\n",
       "    <tr>\n",
       "      <th>1974</th>\n",
       "      <td>-0.624619</td>\n",
       "      <td>-0.441518</td>\n",
       "      <td>-0.469688</td>\n",
       "      <td>-0.462669</td>\n",
       "      <td>-0.475284</td>\n",
       "      <td>0.739993</td>\n",
       "      <td>21</td>\n",
       "      <td>2</td>\n",
       "    </tr>\n",
       "    <tr>\n",
       "      <th>1975</th>\n",
       "      <td>-0.558336</td>\n",
       "      <td>-0.441518</td>\n",
       "      <td>-0.469688</td>\n",
       "      <td>-0.462669</td>\n",
       "      <td>-0.475284</td>\n",
       "      <td>0.739993</td>\n",
       "      <td>21</td>\n",
       "      <td>2</td>\n",
       "    </tr>\n",
       "  </tbody>\n",
       "</table>\n",
       "<p>1976 rows × 8 columns</p>\n",
       "</div>"
      ],
      "text/plain": [
       "      capacity_mw  generation_gwh_2013  generation_gwh_2014  \\\n",
       "0       -0.627095            -0.441518            -0.469688   \n",
       "1       -0.413272            -0.441518            -0.469688   \n",
       "2       -0.544925            -0.441518            -0.469688   \n",
       "3       -0.330430            -0.069747            -0.119493   \n",
       "4        3.397485             0.540191             1.251019   \n",
       "...           ...                  ...                  ...   \n",
       "1971    -0.623513            -0.441518            -0.469688   \n",
       "1972    -0.543458            -0.441518            -0.469688   \n",
       "1973    -0.579475            -0.441518            -0.469688   \n",
       "1974    -0.624619            -0.441518            -0.469688   \n",
       "1975    -0.558336            -0.441518            -0.469688   \n",
       "\n",
       "      generation_gwh_2015  generation_gwh_2017  Power_plant_Years  source  \\\n",
       "0               -0.462669            -0.475284          -1.718728     109   \n",
       "1               -0.462669            -0.475284           0.739993     174   \n",
       "2               -0.462669            -0.475284           0.739993      21   \n",
       "3               -0.001119            -0.134651          -1.197181      22   \n",
       "4                2.773732             2.288471          -2.016755      22   \n",
       "...                   ...                  ...                ...     ...   \n",
       "1971            -0.462669            -0.475284           0.739993      21   \n",
       "1972            -0.462669            -0.475284           0.739993      21   \n",
       "1973            -0.462669            -0.475284           0.739993      21   \n",
       "1974            -0.462669            -0.475284           0.739993      21   \n",
       "1975            -0.462669            -0.475284           0.739993      21   \n",
       "\n",
       "      geolocation_source  \n",
       "0                      1  \n",
       "1                      2  \n",
       "2                      2  \n",
       "3                      2  \n",
       "4                      2  \n",
       "...                  ...  \n",
       "1971                   2  \n",
       "1972                   2  \n",
       "1973                   2  \n",
       "1974                   2  \n",
       "1975                   2  \n",
       "\n",
       "[1976 rows x 8 columns]"
      ]
     },
     "execution_count": 83,
     "metadata": {},
     "output_type": "execute_result"
    }
   ],
   "source": [
    "#Lets join both categorical data and numerical data of our features\n",
    "df_X = num_x.join(c_data)\n",
    "df_X"
   ]
  },
  {
   "cell_type": "code",
   "execution_count": 88,
   "metadata": {},
   "outputs": [
    {
     "name": "stdout",
     "output_type": "stream",
     "text": [
      "Best accuracy is 0.8562753036437247 on Random State 165\n"
     ]
    }
   ],
   "source": [
    "\n",
    "#model with DecisionTreeClassifier\n",
    "from sklearn.tree  import DecisionTreeClassifier\n",
    "#Import required accuracy metrics for classification\n",
    "from sklearn.metrics import accuracy_score, confusion_matrix, classification_report\n",
    "from sklearn.metrics import roc_curve, roc_auc_score\n",
    "\n",
    "max_accu = 0\n",
    "max_rs = 0\n",
    "for i in range(150,200):\n",
    "    x_train,x_test,y_train,y_test = train_test_split(df_X,y_over,test_size = 0.25, random_state = i)\n",
    "    dt = DecisionTreeClassifier()\n",
    "    dt.fit(x_train,y_train)\n",
    "    pred = dt.predict(x_test)\n",
    "    acc = accuracy_score(y_test,pred)\n",
    "    if acc > max_accu:\n",
    "        max_accu = acc\n",
    "        max_rs = i\n",
    "print(\"Best accuracy is\",max_accu,\"on Random State\",max_rs)"
   ]
  },
  {
   "cell_type": "code",
   "execution_count": 89,
   "metadata": {},
   "outputs": [],
   "source": [
    "#lets split our data into train and test parts with best random_state\n",
    "x_train,x_test,y_train,y_test = train_test_split(df_X, y_over, test_size = 0.25, random_state = max_rs )"
   ]
  },
  {
   "cell_type": "code",
   "execution_count": 90,
   "metadata": {},
   "outputs": [
    {
     "name": "stdout",
     "output_type": "stream",
     "text": [
      "Accuracy Score: 85.82995951417004%\n",
      "---------------------------------------------------\n",
      "Confusion Matrix : \n",
      " [[60  0  0  0  0  2  0  0]\n",
      " [ 8 42  6  4  9  3  0  0]\n",
      " [ 0  2 40  4  1  3  0  0]\n",
      " [ 0  9  5 48  2  0  0  0]\n",
      " [ 0  3  0  2 60  0  0  0]\n",
      " [ 3  2  1  1  0 51  0  0]\n",
      " [ 0  0  0  0  0  0 58  0]\n",
      " [ 0  0  0  0  0  0  0 65]]\n",
      "\n",
      "CLASSIFICATION REPORT : \n",
      "               precision    recall  f1-score   support\n",
      "\n",
      "           0       0.85      0.97      0.90        62\n",
      "           1       0.72      0.58      0.65        72\n",
      "           2       0.77      0.80      0.78        50\n",
      "           3       0.81      0.75      0.78        64\n",
      "           4       0.83      0.92      0.88        65\n",
      "           5       0.86      0.88      0.87        58\n",
      "           6       1.00      1.00      1.00        58\n",
      "           7       1.00      1.00      1.00        65\n",
      "\n",
      "    accuracy                           0.86       494\n",
      "   macro avg       0.86      0.86      0.86       494\n",
      "weighted avg       0.85      0.86      0.85       494\n",
      "\n"
     ]
    }
   ],
   "source": [
    "#model with DecesionTreeClassifier\n",
    "from sklearn.tree import DecisionTreeClassifier\n",
    "dt = DecisionTreeClassifier()\n",
    "dt.fit(x_train,y_train)\n",
    "pred_dt = dt.predict(x_test)\n",
    "print(f\"Accuracy Score: {accuracy_score(y_test,pred_dt)*100}%\")\n",
    "print(\"---------------------------------------------------\")\n",
    "\n",
    "print(f\"Confusion Matrix : \\n {confusion_matrix(y_test,pred_dt)}\\n\")\n",
    "print(f\"CLASSIFICATION REPORT : \\n {classification_report(y_test,pred_dt)}\")"
   ]
  },
  {
   "cell_type": "code",
   "execution_count": 91,
   "metadata": {},
   "outputs": [
    {
     "name": "stdout",
     "output_type": "stream",
     "text": [
      "Accuracy Score: 88.66396761133603%\n",
      "---------------------------------------------------\n",
      "Confusion Matrix : \n",
      " [[60  0  0  0  0  2  0  0]\n",
      " [ 8 47  4  3  4  6  0  0]\n",
      " [ 0  1 43  2  1  3  0  0]\n",
      " [ 0  9  2 52  1  0  0  0]\n",
      " [ 0  5  0  0 60  0  0  0]\n",
      " [ 2  1  1  1  0 53  0  0]\n",
      " [ 0  0  0  0  0  0 58  0]\n",
      " [ 0  0  0  0  0  0  0 65]]\n",
      "\n",
      "CLASSIFICATION REPORT : \n",
      "               precision    recall  f1-score   support\n",
      "\n",
      "           0       0.86      0.97      0.91        62\n",
      "           1       0.75      0.65      0.70        72\n",
      "           2       0.86      0.86      0.86        50\n",
      "           3       0.90      0.81      0.85        64\n",
      "           4       0.91      0.92      0.92        65\n",
      "           5       0.83      0.91      0.87        58\n",
      "           6       1.00      1.00      1.00        58\n",
      "           7       1.00      1.00      1.00        65\n",
      "\n",
      "    accuracy                           0.89       494\n",
      "   macro avg       0.89      0.89      0.89       494\n",
      "weighted avg       0.89      0.89      0.88       494\n",
      "\n"
     ]
    }
   ],
   "source": [
    "\n",
    "#model with RandomForestClassifier\n",
    "from sklearn.ensemble import RandomForestClassifier\n",
    "rf = RandomForestClassifier()\n",
    "rf.fit(x_train,y_train)\n",
    "pred_rf = rf.predict(x_test)\n",
    "print(f\"Accuracy Score: {accuracy_score(y_test,pred_rf)*100}%\")\n",
    "print(\"---------------------------------------------------\")\n",
    "print(f\"Confusion Matrix : \\n {confusion_matrix(y_test,pred_rf)}\\n\")\n",
    "print(f\"CLASSIFICATION REPORT : \\n {classification_report(y_test,pred_rf)}\")"
   ]
  },
  {
   "cell_type": "code",
   "execution_count": 92,
   "metadata": {},
   "outputs": [
    {
     "name": "stdout",
     "output_type": "stream",
     "text": [
      "Accuracy Score: 79.35222672064778%\n",
      "---------------------------------------------------\n",
      "Confusion Matrix : \n",
      " [[55  2  2  0  0  2  1  0]\n",
      " [14 29  6  3 12  3  5  0]\n",
      " [ 1  2 40  2  1  4  0  0]\n",
      " [ 0 11  5 43  2  3  0  0]\n",
      " [ 1  0  1  0 63  0  0  0]\n",
      " [11  0  0  3  0 43  1  0]\n",
      " [ 1  1  0  0  0  0 54  2]\n",
      " [ 0  0  0  0  0  0  0 65]]\n",
      "\n",
      "CLASSIFICATION REPORT : \n",
      "               precision    recall  f1-score   support\n",
      "\n",
      "           0       0.66      0.89      0.76        62\n",
      "           1       0.64      0.40      0.50        72\n",
      "           2       0.74      0.80      0.77        50\n",
      "           3       0.84      0.67      0.75        64\n",
      "           4       0.81      0.97      0.88        65\n",
      "           5       0.78      0.74      0.76        58\n",
      "           6       0.89      0.93      0.91        58\n",
      "           7       0.97      1.00      0.98        65\n",
      "\n",
      "    accuracy                           0.79       494\n",
      "   macro avg       0.79      0.80      0.79       494\n",
      "weighted avg       0.79      0.79      0.78       494\n",
      "\n"
     ]
    }
   ],
   "source": [
    "#model with KNeighborsClassifier\n",
    "from sklearn.neighbors import KNeighborsClassifier\n",
    "kn = KNeighborsClassifier()\n",
    "kn.fit(x_train,y_train)\n",
    "pred_kn = kn.predict(x_test)\n",
    "print(f\"Accuracy Score: {accuracy_score(y_test,pred_kn)*100}%\")\n",
    "print(\"---------------------------------------------------\")\n",
    "\n",
    "print(f\"Confusion Matrix : \\n {confusion_matrix(y_test,pred_kn)}\\n\")\n",
    "print(f\"CLASSIFICATION REPORT : \\n {classification_report(y_test,pred_kn)}\")"
   ]
  },
  {
   "cell_type": "code",
   "execution_count": 93,
   "metadata": {},
   "outputs": [
    {
     "name": "stdout",
     "output_type": "stream",
     "text": [
      "Accuracy Score: 33.603238866396765%\n",
      "---------------------------------------------------\n",
      "Confusion Matrix : \n",
      " [[41  0  0  5  3  0 13  0]\n",
      " [11  0  1 30 19  0  8  3]\n",
      " [ 1  0  0 48  1  0  0  0]\n",
      " [ 0  0  0 61  3  0  0  0]\n",
      " [10  0  0 22 33  0  0  0]\n",
      " [ 2  0  0 40  4  0 12  0]\n",
      " [18  0  0  3  0  0 31  6]\n",
      " [ 0  0  0 65  0  0  0  0]]\n",
      "\n",
      "CLASSIFICATION REPORT : \n",
      "               precision    recall  f1-score   support\n",
      "\n",
      "           0       0.49      0.66      0.57        62\n",
      "           1       0.00      0.00      0.00        72\n",
      "           2       0.00      0.00      0.00        50\n",
      "           3       0.22      0.95      0.36        64\n",
      "           4       0.52      0.51      0.52        65\n",
      "           5       0.00      0.00      0.00        58\n",
      "           6       0.48      0.53      0.51        58\n",
      "           7       0.00      0.00      0.00        65\n",
      "\n",
      "    accuracy                           0.34       494\n",
      "   macro avg       0.22      0.33      0.24       494\n",
      "weighted avg       0.22      0.34      0.25       494\n",
      "\n"
     ]
    }
   ],
   "source": [
    "\n",
    "#model with SVC\n",
    "from sklearn.svm import SVC\n",
    "svc = SVC()\n",
    "svc.fit(x_train,y_train)\n",
    "pred_svc = svc.predict(x_test)\n",
    "print(f\"Accuracy Score: {accuracy_score(y_test,pred_svc)*100}%\")\n",
    "print(\"---------------------------------------------------\")\n",
    "\n",
    "print(f\"Confusion Matrix : \\n {confusion_matrix(y_test,pred_svc)}\\n\")\n",
    "print(f\"CLASSIFICATION REPORT : \\n {classification_report(y_test,pred_svc)}\")"
   ]
  },
  {
   "cell_type": "code",
   "execution_count": 94,
   "metadata": {},
   "outputs": [
    {
     "name": "stdout",
     "output_type": "stream",
     "text": [
      "[13:13:07] WARNING: C:/Users/Administrator/workspace/xgboost-win64_release_1.4.0/src/learner.cc:1095: Starting in XGBoost 1.3.0, the default evaluation metric used with the objective 'multi:softprob' was changed from 'merror' to 'mlogloss'. Explicitly set eval_metric if you'd like to restore the old behavior.\n",
      "-------------------------------------------------------\n",
      "Accuracy Score: 88.46153846153845%\n",
      "------------------------------------------------------\n",
      "Confusion Matrix : \n",
      " [[60  1  0  0  0  1  0  0]\n",
      " [ 6 45  2  5  7  7  0  0]\n",
      " [ 0  1 46  1  0  2  0  0]\n",
      " [ 0 10  2 51  1  0  0  0]\n",
      " [ 0  5  0  0 59  1  0  0]\n",
      " [ 3  2  0  0  0 53  0  0]\n",
      " [ 0  0  0  0  0  0 58  0]\n",
      " [ 0  0  0  0  0  0  0 65]]\n",
      "\n",
      "CLASSIFICATION REPORT : \n",
      "               precision    recall  f1-score   support\n",
      "\n",
      "           0       0.87      0.97      0.92        62\n",
      "           1       0.70      0.62      0.66        72\n",
      "           2       0.92      0.92      0.92        50\n",
      "           3       0.89      0.80      0.84        64\n",
      "           4       0.88      0.91      0.89        65\n",
      "           5       0.83      0.91      0.87        58\n",
      "           6       1.00      1.00      1.00        58\n",
      "           7       1.00      1.00      1.00        65\n",
      "\n",
      "    accuracy                           0.88       494\n",
      "   macro avg       0.89      0.89      0.89       494\n",
      "weighted avg       0.88      0.88      0.88       494\n",
      "\n"
     ]
    }
   ],
   "source": [
    "#lets check with XGBClassifier model\n",
    "from xgboost import XGBClassifier\n",
    "xgb = XGBClassifier()\n",
    "xgb.fit(x_train,y_train)\n",
    "pred_xgb = xgb.predict(x_test)\n",
    "print(\"-------------------------------------------------------\")\n",
    "\n",
    "print(f\"Accuracy Score: {accuracy_score(y_test,pred_xgb)*100}%\")\n",
    "print('------------------------------------------------------')\n",
    "print(f\"Confusion Matrix : \\n {confusion_matrix(y_test,pred_xgb)}\\n\")\n",
    "print(f\"CLASSIFICATION REPORT : \\n {classification_report(y_test,pred_xgb)}\")"
   ]
  },
  {
   "cell_type": "markdown",
   "metadata": {},
   "source": [
    "# Cross-validation"
   ]
  },
  {
   "cell_type": "code",
   "execution_count": 95,
   "metadata": {},
   "outputs": [
    {
     "name": "stdout",
     "output_type": "stream",
     "text": [
      "Cross validation score of DecisionTreeClassifier model is : 0.8370668712440864\n"
     ]
    }
   ],
   "source": [
    "#Let's check cross validation score for DecisionTreeClassifier\n",
    "from sklearn.model_selection import KFold, cross_val_score\n",
    "k_f =KFold(n_splits = 3, shuffle = True)\n",
    "k_f\n",
    "scores = cross_val_score(dt, df_X, y_over, cv=5, scoring = \"accuracy\")\n",
    "print(\"Cross validation score of DecisionTreeClassifier model is :\", scores.mean())"
   ]
  },
  {
   "cell_type": "code",
   "execution_count": 96,
   "metadata": {},
   "outputs": [
    {
     "name": "stdout",
     "output_type": "stream",
     "text": [
      "Cross validation score of RandomForestClassifier model is : 0.8785500575373992\n"
     ]
    }
   ],
   "source": [
    "#Let's check cross validation score for RandomForestClassifier\n",
    "scores = cross_val_score(rf, df_X, y_over, cv=5, scoring = \"accuracy\")\n",
    "print(\"Cross validation score of RandomForestClassifier model is :\", scores.mean())"
   ]
  },
  {
   "cell_type": "code",
   "execution_count": 97,
   "metadata": {},
   "outputs": [
    {
     "name": "stdout",
     "output_type": "stream",
     "text": [
      "Cross validation score of KNeighborsClassifier model is : 0.7940365682137834\n"
     ]
    }
   ],
   "source": [
    "#Let's check cross validation score for KNeighborsClassifier\n",
    "scores = cross_val_score(kn, df_X, y_over, cv=5, scoring = \"accuracy\")\n",
    "print(\"Cross validation score of KNeighborsClassifier model is :\", scores.mean())"
   ]
  },
  {
   "cell_type": "code",
   "execution_count": 98,
   "metadata": {},
   "outputs": [
    {
     "name": "stdout",
     "output_type": "stream",
     "text": [
      "Cross validation score of SVC model is : 0.325413629970592\n"
     ]
    }
   ],
   "source": [
    "#Let's check cross validation score for SVC\n",
    "scores = cross_val_score(svc, df_X, y_over, cv=5, scoring = \"accuracy\")\n",
    "print(\"Cross validation score of SVC model is :\", scores.mean())"
   ]
  },
  {
   "cell_type": "code",
   "execution_count": 99,
   "metadata": {},
   "outputs": [
    {
     "name": "stdout",
     "output_type": "stream",
     "text": [
      "[13:14:28] WARNING: C:/Users/Administrator/workspace/xgboost-win64_release_1.4.0/src/learner.cc:1095: Starting in XGBoost 1.3.0, the default evaluation metric used with the objective 'multi:softprob' was changed from 'merror' to 'mlogloss'. Explicitly set eval_metric if you'd like to restore the old behavior.\n",
      "[13:14:29] WARNING: C:/Users/Administrator/workspace/xgboost-win64_release_1.4.0/src/learner.cc:1095: Starting in XGBoost 1.3.0, the default evaluation metric used with the objective 'multi:softprob' was changed from 'merror' to 'mlogloss'. Explicitly set eval_metric if you'd like to restore the old behavior.\n",
      "[13:14:30] WARNING: C:/Users/Administrator/workspace/xgboost-win64_release_1.4.0/src/learner.cc:1095: Starting in XGBoost 1.3.0, the default evaluation metric used with the objective 'multi:softprob' was changed from 'merror' to 'mlogloss'. Explicitly set eval_metric if you'd like to restore the old behavior.\n",
      "[13:14:30] WARNING: C:/Users/Administrator/workspace/xgboost-win64_release_1.4.0/src/learner.cc:1095: Starting in XGBoost 1.3.0, the default evaluation metric used with the objective 'multi:softprob' was changed from 'merror' to 'mlogloss'. Explicitly set eval_metric if you'd like to restore the old behavior.\n",
      "[13:14:31] WARNING: C:/Users/Administrator/workspace/xgboost-win64_release_1.4.0/src/learner.cc:1095: Starting in XGBoost 1.3.0, the default evaluation metric used with the objective 'multi:softprob' was changed from 'merror' to 'mlogloss'. Explicitly set eval_metric if you'd like to restore the old behavior.\n",
      "---------------------------------------------------------------------\n",
      "Cross validation score of XGBClassifier model is : 0.8709704641350211\n"
     ]
    }
   ],
   "source": [
    "\n",
    "#Let's check cross validation score for XGBClassifier\n",
    "scores = cross_val_score(xgb,df_X, y_over, cv=5, scoring = \"accuracy\")\n",
    "print('---------------------------------------------------------------------')\n",
    "print(\"Cross validation score of XGBClassifier model is :\", scores.mean())"
   ]
  },
  {
   "cell_type": "markdown",
   "metadata": {},
   "source": [
    "->From above observations we can say that RandomForestClassifier is giving least difference in accuracy and cv-score,so I am prefering to go with RandomForestClassifier as a best suitable algorithm.\n"
   ]
  },
  {
   "cell_type": "markdown",
   "metadata": {},
   "source": [
    "# Model Saving"
   ]
  },
  {
   "cell_type": "code",
   "execution_count": 110,
   "metadata": {},
   "outputs": [
    {
     "data": {
      "text/plain": [
       "['plant_Fuel_Type_prediction.pkl']"
      ]
     },
     "execution_count": 110,
     "metadata": {},
     "output_type": "execute_result"
    }
   ],
   "source": [
    "joblib.dump(pred_rf,\"plant_Fuel_Type_prediction.pkl\")"
   ]
  },
  {
   "cell_type": "code",
   "execution_count": null,
   "metadata": {},
   "outputs": [],
   "source": []
  }
 ],
 "metadata": {
  "kernelspec": {
   "display_name": "Python 3",
   "language": "python",
   "name": "python3"
  },
  "language_info": {
   "codemirror_mode": {
    "name": "ipython",
    "version": 3
   },
   "file_extension": ".py",
   "mimetype": "text/x-python",
   "name": "python",
   "nbconvert_exporter": "python",
   "pygments_lexer": "ipython3",
   "version": "3.8.5"
  }
 },
 "nbformat": 4,
 "nbformat_minor": 4
}
